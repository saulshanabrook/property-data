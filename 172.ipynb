{
 "cells": [
  {
   "cell_type": "markdown",
   "id": "5a4cb5dd-c27e-4f48-be75-96b9a0f6e7cd",
   "metadata": {},
   "source": [
    "# Hope Street / Highland Ave Properties"
   ]
  },
  {
   "cell_type": "code",
   "execution_count": 23,
   "id": "649f1a68-35a9-4101-8b1e-e64cbdae8f7b",
   "metadata": {},
   "outputs": [],
   "source": [
    "from geopandas import GeoDataFrame"
   ]
  },
  {
   "cell_type": "code",
   "execution_count": 24,
   "id": "2d9cbe3c-60fd-4aea-a5cc-566b82600450",
   "metadata": {},
   "outputs": [],
   "source": [
    "df = df[df.OWNER1.isin([\n",
    "    \"BAILEY JOHN G\",\n",
    "    \"WITHINGTON DENNET W TRUSTEE SUN TRUST\"\n",
    "])][[\"TOTAL_VAL\", \"LOT_SIZE\", \"SITE_ADDR\", \"OWNER1\", \"LS_BOOK\", \"LS_PAGE\", \"geom\"]]"
   ]
  },
  {
   "cell_type": "markdown",
   "id": "94a9b101-e0fd-4200-a689-7165904dbf37",
   "metadata": {},
   "source": [
    "## Table\n",
    "\n",
    "There are five properties that John Bailey, or the sun trust, own which we are talking to him about buying together:"
   ]
  },
  {
   "cell_type": "code",
   "execution_count": 25,
   "id": "acf72796-e7db-43e6-8df1-b63ef5f24d55",
   "metadata": {},
   "outputs": [
    {
     "data": {
      "text/html": [
       "<div>\n",
       "<style scoped>\n",
       "    .dataframe tbody tr th:only-of-type {\n",
       "        vertical-align: middle;\n",
       "    }\n",
       "\n",
       "    .dataframe tbody tr th {\n",
       "        vertical-align: top;\n",
       "    }\n",
       "\n",
       "    .dataframe thead th {\n",
       "        text-align: right;\n",
       "    }\n",
       "</style>\n",
       "<table border=\"1\" class=\"dataframe\">\n",
       "  <thead>\n",
       "    <tr style=\"text-align: right;\">\n",
       "      <th></th>\n",
       "      <th>TOTAL_VAL</th>\n",
       "      <th>LOT_SIZE</th>\n",
       "      <th>SITE_ADDR</th>\n",
       "      <th>OWNER1</th>\n",
       "      <th>LS_BOOK</th>\n",
       "      <th>LS_PAGE</th>\n",
       "      <th>geom</th>\n",
       "    </tr>\n",
       "  </thead>\n",
       "  <tbody>\n",
       "    <tr>\n",
       "      <th>5660</th>\n",
       "      <td>5100</td>\n",
       "      <td>0.84</td>\n",
       "      <td>HOPE ST</td>\n",
       "      <td>WITHINGTON DENNET W TRUSTEE SUN TRUST</td>\n",
       "      <td>5704</td>\n",
       "      <td>87</td>\n",
       "      <td>POLYGON ((110386.944 925398.655, 110302.269 92...</td>\n",
       "    </tr>\n",
       "    <tr>\n",
       "      <th>5661</th>\n",
       "      <td>60900</td>\n",
       "      <td>3.50</td>\n",
       "      <td>HOPE ST</td>\n",
       "      <td>WITHINGTON DENNET W TRUSTEE SUN TRUST</td>\n",
       "      <td>5704</td>\n",
       "      <td>87</td>\n",
       "      <td>POLYGON ((110418.040 925309.733, 110385.393 92...</td>\n",
       "    </tr>\n",
       "    <tr>\n",
       "      <th>5679</th>\n",
       "      <td>65500</td>\n",
       "      <td>6.24</td>\n",
       "      <td>HOPE ST</td>\n",
       "      <td>WITHINGTON DENNET W TRUSTEE SUN TRUST</td>\n",
       "      <td>5704</td>\n",
       "      <td>87</td>\n",
       "      <td>POLYGON ((110330.406 925522.064, 110374.077 92...</td>\n",
       "    </tr>\n",
       "    <tr>\n",
       "      <th>5680</th>\n",
       "      <td>6700</td>\n",
       "      <td>1.00</td>\n",
       "      <td>HIGHLAND AVE EX</td>\n",
       "      <td>WITHINGTON DENNET W TRUSTEE SUN TRUST</td>\n",
       "      <td>5704</td>\n",
       "      <td>87</td>\n",
       "      <td>POLYGON ((110302.025 925777.273, 110301.942 92...</td>\n",
       "    </tr>\n",
       "    <tr>\n",
       "      <th>8275</th>\n",
       "      <td>89800</td>\n",
       "      <td>8.10</td>\n",
       "      <td>172 HIGHLAND AVE EX</td>\n",
       "      <td>BAILEY JOHN G</td>\n",
       "      <td>5169</td>\n",
       "      <td>130</td>\n",
       "      <td>POLYGON ((110316.856 925756.729, 110303.615 92...</td>\n",
       "    </tr>\n",
       "  </tbody>\n",
       "</table>\n",
       "</div>"
      ],
      "text/plain": [
       "      TOTAL_VAL  LOT_SIZE            SITE_ADDR  \\\n",
       "5660       5100      0.84              HOPE ST   \n",
       "5661      60900      3.50              HOPE ST   \n",
       "5679      65500      6.24              HOPE ST   \n",
       "5680       6700      1.00      HIGHLAND AVE EX   \n",
       "8275      89800      8.10  172 HIGHLAND AVE EX   \n",
       "\n",
       "                                     OWNER1 LS_BOOK LS_PAGE  \\\n",
       "5660  WITHINGTON DENNET W TRUSTEE SUN TRUST    5704      87   \n",
       "5661  WITHINGTON DENNET W TRUSTEE SUN TRUST    5704      87   \n",
       "5679  WITHINGTON DENNET W TRUSTEE SUN TRUST    5704      87   \n",
       "5680  WITHINGTON DENNET W TRUSTEE SUN TRUST    5704      87   \n",
       "8275                          BAILEY JOHN G    5169     130   \n",
       "\n",
       "                                                   geom  \n",
       "5660  POLYGON ((110386.944 925398.655, 110302.269 92...  \n",
       "5661  POLYGON ((110418.040 925309.733, 110385.393 92...  \n",
       "5679  POLYGON ((110330.406 925522.064, 110374.077 92...  \n",
       "5680  POLYGON ((110302.025 925777.273, 110301.942 92...  \n",
       "8275  POLYGON ((110316.856 925756.729, 110303.615 92...  "
      ]
     },
     "execution_count": 25,
     "metadata": {},
     "output_type": "execute_result"
    }
   ],
   "source": [
    "df"
   ]
  },
  {
   "cell_type": "markdown",
   "id": "47369cd9-afec-4f4b-97f5-224c65ff1b1b",
   "metadata": {},
   "source": [
    "## Map"
   ]
  },
  {
   "cell_type": "markdown",
   "id": "cc7d4699-59e6-457d-bbbb-9b0ffda5d696",
   "metadata": {},
   "source": [
    "We can see in the map that these lots surround the existing buildings at 172 Highland, which were split off by John previously and sold for $500k."
   ]
  },
  {
   "cell_type": "code",
   "execution_count": 26,
   "id": "c35fc2da-e5bb-43a2-acc1-f3198cabc980",
   "metadata": {},
   "outputs": [
    {
     "data": {
      "text/html": [
       "<div style=\"width:100%;\"><div style=\"position:relative;width:100%;height:0;padding-bottom:60%;\"><span style=\"color:#565656\">Make this Notebook Trusted to load map: File -> Trust Notebook</span><iframe srcdoc=\"&lt;!DOCTYPE html&gt;\n",
       "&lt;head&gt;    \n",
       "    &lt;meta http-equiv=&quot;content-type&quot; content=&quot;text/html; charset=UTF-8&quot; /&gt;\n",
       "    \n",
       "        &lt;script&gt;\n",
       "            L_NO_TOUCH = false;\n",
       "            L_DISABLE_3D = false;\n",
       "        &lt;/script&gt;\n",
       "    \n",
       "    &lt;style&gt;html, body {width: 100%;height: 100%;margin: 0;padding: 0;}&lt;/style&gt;\n",
       "    &lt;style&gt;#map {position:absolute;top:0;bottom:0;right:0;left:0;}&lt;/style&gt;\n",
       "    &lt;script src=&quot;https://cdn.jsdelivr.net/npm/leaflet@1.6.0/dist/leaflet.js&quot;&gt;&lt;/script&gt;\n",
       "    &lt;script src=&quot;https://code.jquery.com/jquery-1.12.4.min.js&quot;&gt;&lt;/script&gt;\n",
       "    &lt;script src=&quot;https://maxcdn.bootstrapcdn.com/bootstrap/3.2.0/js/bootstrap.min.js&quot;&gt;&lt;/script&gt;\n",
       "    &lt;script src=&quot;https://cdnjs.cloudflare.com/ajax/libs/Leaflet.awesome-markers/2.0.2/leaflet.awesome-markers.js&quot;&gt;&lt;/script&gt;\n",
       "    &lt;link rel=&quot;stylesheet&quot; href=&quot;https://cdn.jsdelivr.net/npm/leaflet@1.6.0/dist/leaflet.css&quot;/&gt;\n",
       "    &lt;link rel=&quot;stylesheet&quot; href=&quot;https://maxcdn.bootstrapcdn.com/bootstrap/3.2.0/css/bootstrap.min.css&quot;/&gt;\n",
       "    &lt;link rel=&quot;stylesheet&quot; href=&quot;https://maxcdn.bootstrapcdn.com/bootstrap/3.2.0/css/bootstrap-theme.min.css&quot;/&gt;\n",
       "    &lt;link rel=&quot;stylesheet&quot; href=&quot;https://maxcdn.bootstrapcdn.com/font-awesome/4.6.3/css/font-awesome.min.css&quot;/&gt;\n",
       "    &lt;link rel=&quot;stylesheet&quot; href=&quot;https://cdnjs.cloudflare.com/ajax/libs/Leaflet.awesome-markers/2.0.2/leaflet.awesome-markers.css&quot;/&gt;\n",
       "    &lt;link rel=&quot;stylesheet&quot; href=&quot;https://cdn.jsdelivr.net/gh/python-visualization/folium/folium/templates/leaflet.awesome.rotate.min.css&quot;/&gt;\n",
       "    \n",
       "            &lt;meta name=&quot;viewport&quot; content=&quot;width=device-width,\n",
       "                initial-scale=1.0, maximum-scale=1.0, user-scalable=no&quot; /&gt;\n",
       "            &lt;style&gt;\n",
       "                #map_8ffb4935a850d848f29ea1c7ebd293aa {\n",
       "                    position: relative;\n",
       "                    width: 100.0%;\n",
       "                    height: 100.0%;\n",
       "                    left: 0.0%;\n",
       "                    top: 0.0%;\n",
       "                }\n",
       "            &lt;/style&gt;\n",
       "        \n",
       "    \n",
       "                    &lt;style&gt;\n",
       "                        .foliumtooltip {\n",
       "                            \n",
       "                        }\n",
       "                       .foliumtooltip table{\n",
       "                            margin: auto;\n",
       "                        }\n",
       "                        .foliumtooltip tr{\n",
       "                            text-align: left;\n",
       "                        }\n",
       "                        .foliumtooltip th{\n",
       "                            padding: 2px; padding-right: 8px;\n",
       "                        }\n",
       "                    &lt;/style&gt;\n",
       "            \n",
       "&lt;/head&gt;\n",
       "&lt;body&gt;    \n",
       "    \n",
       "            &lt;div class=&quot;folium-map&quot; id=&quot;map_8ffb4935a850d848f29ea1c7ebd293aa&quot; &gt;&lt;/div&gt;\n",
       "        \n",
       "&lt;/body&gt;\n",
       "&lt;script&gt;    \n",
       "    \n",
       "            var map_8ffb4935a850d848f29ea1c7ebd293aa = L.map(\n",
       "                &quot;map_8ffb4935a850d848f29ea1c7ebd293aa&quot;,\n",
       "                {\n",
       "                    center: [42.575033462984514, -72.59241585728833],\n",
       "                    crs: L.CRS.EPSG3857,\n",
       "                    zoom: 10,\n",
       "                    zoomControl: true,\n",
       "                    preferCanvas: false,\n",
       "                }\n",
       "            );\n",
       "            L.control.scale().addTo(map_8ffb4935a850d848f29ea1c7ebd293aa);\n",
       "\n",
       "            \n",
       "\n",
       "        \n",
       "    \n",
       "            var tile_layer_509f05208f0a1dabf38e454ff10dbca1 = L.tileLayer(\n",
       "                &quot;https://{s}.tile.openstreetmap.org/{z}/{x}/{y}.png&quot;,\n",
       "                {&quot;attribution&quot;: &quot;Data by \\u0026copy; \\u003ca href=\\&quot;http://openstreetmap.org\\&quot;\\u003eOpenStreetMap\\u003c/a\\u003e, under \\u003ca href=\\&quot;http://www.openstreetmap.org/copyright\\&quot;\\u003eODbL\\u003c/a\\u003e.&quot;, &quot;detectRetina&quot;: false, &quot;maxNativeZoom&quot;: 18, &quot;maxZoom&quot;: 18, &quot;minZoom&quot;: 0, &quot;noWrap&quot;: false, &quot;opacity&quot;: 1, &quot;subdomains&quot;: &quot;abc&quot;, &quot;tms&quot;: false}\n",
       "            ).addTo(map_8ffb4935a850d848f29ea1c7ebd293aa);\n",
       "        \n",
       "    \n",
       "            map_8ffb4935a850d848f29ea1c7ebd293aa.fitBounds(\n",
       "                [[42.57242834348595, -72.59433631497515], [42.577638582483075, -72.59049539960151]],\n",
       "                {}\n",
       "            );\n",
       "        \n",
       "    \n",
       "        function geo_json_1f4527757253a7b42bb5230a57f013ac_styler(feature) {\n",
       "            switch(feature.id) {\n",
       "                default:\n",
       "                    return {&quot;fillOpacity&quot;: 0.5, &quot;weight&quot;: 2};\n",
       "            }\n",
       "        }\n",
       "        function geo_json_1f4527757253a7b42bb5230a57f013ac_highlighter(feature) {\n",
       "            switch(feature.id) {\n",
       "                default:\n",
       "                    return {&quot;fillOpacity&quot;: 0.75};\n",
       "            }\n",
       "        }\n",
       "        function geo_json_1f4527757253a7b42bb5230a57f013ac_pointToLayer(feature, latlng) {\n",
       "            var opts = {&quot;bubblingMouseEvents&quot;: true, &quot;color&quot;: &quot;#3388ff&quot;, &quot;dashArray&quot;: null, &quot;dashOffset&quot;: null, &quot;fill&quot;: true, &quot;fillColor&quot;: &quot;#3388ff&quot;, &quot;fillOpacity&quot;: 0.2, &quot;fillRule&quot;: &quot;evenodd&quot;, &quot;lineCap&quot;: &quot;round&quot;, &quot;lineJoin&quot;: &quot;round&quot;, &quot;opacity&quot;: 1.0, &quot;radius&quot;: 2, &quot;stroke&quot;: true, &quot;weight&quot;: 3};\n",
       "            \n",
       "            let style = geo_json_1f4527757253a7b42bb5230a57f013ac_styler(feature)\n",
       "            Object.assign(opts, style)\n",
       "            \n",
       "            return new L.CircleMarker(latlng, opts)\n",
       "        }\n",
       "\n",
       "        function geo_json_1f4527757253a7b42bb5230a57f013ac_onEachFeature(feature, layer) {\n",
       "            layer.on({\n",
       "                mouseout: function(e) {\n",
       "                    if(typeof e.target.setStyle === &quot;function&quot;){\n",
       "                        geo_json_1f4527757253a7b42bb5230a57f013ac.resetStyle(e.target);\n",
       "                    }\n",
       "                },\n",
       "                mouseover: function(e) {\n",
       "                    if(typeof e.target.setStyle === &quot;function&quot;){\n",
       "                        const highlightStyle = geo_json_1f4527757253a7b42bb5230a57f013ac_highlighter(e.target.feature)\n",
       "                        e.target.setStyle(highlightStyle);\n",
       "                    }\n",
       "                },\n",
       "            });\n",
       "        };\n",
       "        var geo_json_1f4527757253a7b42bb5230a57f013ac = L.geoJson(null, {\n",
       "                onEachFeature: geo_json_1f4527757253a7b42bb5230a57f013ac_onEachFeature,\n",
       "            \n",
       "                style: geo_json_1f4527757253a7b42bb5230a57f013ac_styler,\n",
       "                pointToLayer: geo_json_1f4527757253a7b42bb5230a57f013ac_pointToLayer\n",
       "        });\n",
       "\n",
       "        function geo_json_1f4527757253a7b42bb5230a57f013ac_add (data) {\n",
       "            geo_json_1f4527757253a7b42bb5230a57f013ac\n",
       "                .addData(data)\n",
       "                .addTo(map_8ffb4935a850d848f29ea1c7ebd293aa);\n",
       "        }\n",
       "            geo_json_1f4527757253a7b42bb5230a57f013ac_add({&quot;bbox&quot;: [-72.59433631497515, 42.57242834348595, -72.59049539960151, 42.577638582483075], &quot;features&quot;: [{&quot;bbox&quot;: [-72.59280289935954, 42.573517519325975, -72.59152937223901, 42.57423890612431], &quot;geometry&quot;: {&quot;coordinates&quot;: [[[-72.59152937223901, 42.573987579750565], [-72.59255267158008, 42.573517519325975], [-72.59280289935954, 42.57372472521443], [-72.59169045795419, 42.57423890612431], [-72.59152937223901, 42.573987579750565]]], &quot;type&quot;: &quot;Polygon&quot;}, &quot;id&quot;: &quot;5660&quot;, &quot;properties&quot;: {&quot;LOT_SIZE&quot;: 0.84, &quot;LS_BOOK&quot;: &quot;5704&quot;, &quot;LS_PAGE&quot;: &quot;87&quot;, &quot;OWNER1&quot;: &quot;WITHINGTON DENNET W TRUSTEE SUN TRUST&quot;, &quot;SITE_ADDR&quot;: &quot;HOPE ST&quot;, &quot;TOTAL_VAL&quot;: 5100}, &quot;type&quot;: &quot;Feature&quot;}, {&quot;bbox&quot;: [-72.59255267158008, 42.57242834348595, -72.59049539960151, 42.57446252318532], &quot;geometry&quot;: {&quot;coordinates&quot;: [[[-72.59113679684549, 42.573190727273925], [-72.59152126815593, 42.57242834348595], [-72.59181104557264, 42.572903392377356], [-72.59255267158008, 42.573517519325975], [-72.59152937223901, 42.573987579750565], [-72.59049539960151, 42.57446252318532], [-72.59112087102012, 42.573222306582025], [-72.59113679684549, 42.573190727273925]]], &quot;type&quot;: &quot;Polygon&quot;}, &quot;id&quot;: &quot;5661&quot;, &quot;properties&quot;: {&quot;LOT_SIZE&quot;: 3.5, &quot;LS_BOOK&quot;: &quot;5704&quot;, &quot;LS_PAGE&quot;: &quot;87&quot;, &quot;OWNER1&quot;: &quot;WITHINGTON DENNET W TRUSTEE SUN TRUST&quot;, &quot;SITE_ADDR&quot;: &quot;HOPE ST&quot;, &quot;TOTAL_VAL&quot;: 60900}, &quot;type&quot;: &quot;Feature&quot;}, {&quot;bbox&quot;: [-72.59433631497515, 42.57372472521443, -72.59169045795419, 42.57637567547121], &quot;geometry&quot;: {&quot;coordinates&quot;: [[[-72.59223720804964, 42.575091932971304], [-72.59169045795419, 42.57423890612431], [-72.59280289935954, 42.57372472521443], [-72.59280341723164, 42.57372515695719], [-72.59280419829463, 42.57372580408096], [-72.59296616802091, 42.57390118062363], [-72.59303031392434, 42.573961885507224], [-72.59309155231986, 42.574024206935164], [-72.59314981247127, 42.574088069956424], [-72.59320502115851, 42.57415339694278], [-72.593257111219, 42.57422010840763], [-72.59327464963722, 42.5742438462057], [-72.59433631497515, 42.576290641513886], [-72.5939497816418, 42.57634960685301], [-72.5937788897612, 42.57637567547121], [-72.59296305780771, 42.57481514631517], [-72.59223720804964, 42.575091932971304]]], &quot;type&quot;: &quot;Polygon&quot;}, &quot;id&quot;: &quot;5679&quot;, &quot;properties&quot;: {&quot;LOT_SIZE&quot;: 6.24, &quot;LS_BOOK&quot;: &quot;5704&quot;, &quot;LS_PAGE&quot;: &quot;87&quot;, &quot;OWNER1&quot;: &quot;WITHINGTON DENNET W TRUSTEE SUN TRUST&quot;, &quot;SITE_ADDR&quot;: &quot;HOPE ST&quot;, &quot;TOTAL_VAL&quot;: 65500}, &quot;type&quot;: &quot;Feature&quot;}, {&quot;bbox&quot;: [-72.59409880869302, 42.57708386419439, -72.59240724483638, 42.57757852652789], &quot;geometry&quot;: {&quot;coordinates&quot;: [[[-72.5926226856383, 42.577385938579276], [-72.5926236734228, 42.577384804747865], [-72.59275286663076, 42.57723575883433], [-72.59405475247907, 42.57708386419439], [-72.59407874397311, 42.577245768736134], [-72.59409880869302, 42.57738117136059], [-72.59241154367707, 42.57757802667727], [-72.59240724483638, 42.57757852652789], [-72.59240735811069, 42.57757508089659], [-72.5924162535156, 42.57757382809249], [-72.5924250852612, 42.57757234631309], [-72.59243384119884, 42.577570637474096], [-72.59244251039765, 42.57756870347951], [-72.59245108437847, 42.577566547110614], [-72.59245955102377, 42.57756417208331], [-72.59246789937156, 42.57756157850141], [-72.5924720107975, 42.57756017561843], [-72.59247612098964, 42.57755877184661], [-72.59248420496269, 42.57755575492322], [-72.59248817390292, 42.57755414361797], [-72.59249214160934, 42.57755253142402], [-72.59249992126352, 42.57754910594212], [-72.59250372833934, 42.577547292700345], [-72.59250753421252, 42.57754548037014], [-72.5925149708373, 42.57754166200161], [-72.59252222387661, 42.57753765360622], [-72.59252575316175, 42.57753555669739], [-72.59252928244663, 42.57753345978852], [-72.59253613813061, 42.5775290869304], [-72.59253946092261, 42.57752681371622], [-72.59254278371434, 42.57752454050197], [-72.59254921074977, 42.57751982508481], [-72.59255541082031, 42.577514947060756], [-72.59255839437513, 42.57751242947461], [-72.59256137669603, 42.577509910999794], [-72.59256710242747, 42.57750472506101], [-72.59256983979473, 42.57750206035522], [-72.59257257836425, 42.57749939473767], [-72.59257779974388, 42.57749392637698], [-72.59258275936743, 42.57748832634934], [-72.59258510592002, 42.57748546367563], [-72.59258745127013, 42.57748260191356], [-72.59259187068908, 42.577476759416946], [-72.59259601167484, 42.57747080701859], [-72.592597939961, 42.57746777904794], [-72.59259986826247, 42.57746475197747], [-72.59260343690728, 42.57745860062917], [-72.59260507489256, 42.57745548087533], [-72.59260671287774, 42.57745236112143], [-72.59260969264474, 42.57744604068994], [-72.59261103205316, 42.577442843636085], [-72.59261237146141, 42.577439646582185], [-72.59261474706338, 42.57743318872291], [-72.59261578208599, 42.5774299306296], [-72.59261681589041, 42.57742667254772], [-72.59261857688067, 42.577420107069706], [-72.59261930047487, 42.57741680330874], [-72.59262002652059, 42.57741350042487], [-72.59262116251485, 42.57740686073763], [-72.59262157252572, 42.577403527534926], [-72.59262198377026, 42.57740019522082], [-72.59262249044302, 42.577393512876], [-72.59262268144006, 42.57738682091597], [-72.5926226856383, 42.577385938579276]]], &quot;type&quot;: &quot;Polygon&quot;}, &quot;id&quot;: &quot;5680&quot;, &quot;properties&quot;: {&quot;LOT_SIZE&quot;: 1.0, &quot;LS_BOOK&quot;: &quot;5704&quot;, &quot;LS_PAGE&quot;: &quot;87&quot;, &quot;OWNER1&quot;: &quot;WITHINGTON DENNET W TRUSTEE SUN TRUST&quot;, &quot;SITE_ADDR&quot;: &quot;HIGHLAND AVE EX&quot;, &quot;TOTAL_VAL&quot;: 6700}, &quot;type&quot;: &quot;Feature&quot;}, {&quot;bbox&quot;: [-72.59405475247907, 42.57481514631517, -72.59124049348156, 42.577638582483075], &quot;geometry&quot;: {&quot;coordinates&quot;: [[[-72.59243883500474, 42.57720272910343], [-72.59259465062158, 42.576885857903164], [-72.59300540795024, 42.576881967927726], [-72.59301991157892, 42.57642015504608], [-72.59258631030487, 42.57510578145252], [-72.59212679695949, 42.57521827146929], [-72.59190853861128, 42.57691314839511], [-72.59210418868891, 42.57739634682674], [-72.59210443052042, 42.577399688263085], [-72.59210522820462, 42.57740635555959], [-72.59210578516604, 42.57740967510712], [-72.5921063409564, 42.577412997366636], [-72.59210776621535, 42.57741960650607], [-72.59210950263869, 42.57742617578811], [-72.59211052510544, 42.5774294342109], [-72.59211154883711, 42.57743269532258], [-72.59211390104747, 42.57743915884297], [-72.59211655667795, 42.57744555737081], [-72.59211803553197, 42.57744872054353], [-72.59211951438603, 42.57745188371626], [-72.59212276794148, 42.57745812983563], [-72.59212454134683, 42.57746120829297], [-72.59212631354993, 42.57746428766201], [-72.59213014988448, 42.57747035090584], [-72.59213220784804, 42.577473330337526], [-72.59213426827888, 42.577476311546384], [-72.59213866739059, 42.57748216239396], [-72.5921410023394, 42.577485027566375], [-72.59214333855317, 42.577487895427694], [-72.59214827801937, 42.577493505281346], [-72.59215087878901, 42.577496244596226], [-72.5921534795589, 42.57749898391103], [-72.5921589369882, 42.577504325973464], [-72.59216178991575, 42.57750692425489], [-72.59216464284363, 42.577509522536204], [-72.59217059097278, 42.57751457005625], [-72.59217368244215, 42.57751701482872], [-72.59217677392738, 42.57751946050133], [-72.59218318430611, 42.57752418853962], [-72.59218649828081, 42.57752646825095], [-72.59218981347377, 42.57752874795072], [-72.5921966528266, 42.57753313431448], [-72.5922001744881, 42.57753523740094], [-72.59220369738343, 42.577537341375894], [-72.59221093487079, 42.577541363849384], [-72.59221464577766, 42.57754328058206], [-72.59221835790278, 42.57754519730309], [-72.59222554894909, 42.57754864852289], [-72.59222553302823, 42.57754906551384], [-72.59222552443384, 42.577549342888474], [-72.59147224345115, 42.577638582483075], [-72.59142452508935, 42.57732042745976], [-72.59136316666944, 42.576911321349215], [-72.59133234107517, 42.57670578922071], [-72.59130185030727, 42.57650248755885], [-72.59124049348156, 42.57609338128547], [-72.59152886775439, 42.576067077572326], [-72.5914697179419, 42.57579761002928], [-72.59165481414806, 42.575643868972946], [-72.59143695093543, 42.57525913253609], [-72.59223720804964, 42.575091932971304], [-72.59296305780771, 42.57481514631517], [-72.5937788897612, 42.57637567547121], [-72.5939497816418, 42.57634960685301], [-72.59405076630554, 42.57705597998214], [-72.59405475247907, 42.57708386419439], [-72.59275286663076, 42.57723575883433], [-72.5926236734228, 42.577384804747865], [-72.5926226856383, 42.577385938579276], [-72.59262251605038, 42.577379246432265], [-72.59262203353488, 42.577372562650034], [-72.59262163468127, 42.5773692299037], [-72.59262123581209, 42.577365896257206], [-72.59262012299114, 42.57735925355491], [-72.5926194103354, 42.57735594898828], [-72.59261869767975, 42.577352644421765], [-72.59261696122093, 42.57734607604739], [-72.5926159374645, 42.5773428149401], [-72.59261491495738, 42.57733955562154], [-72.59261256269933, 42.577333092111175], [-72.59261123425993, 42.57732989330874], [-72.59260990702316, 42.57732669359461], [-72.59260694928729, 42.577320368161644], [-72.59260532248904, 42.5773172451087], [-72.59260369569103, 42.57731412205572], [-72.59260015002866, 42.577307963343614], [-72.59259823124239, 42.57730493218524], [-72.59259631487673, 42.577301900103585], [-72.59259219523199, 42.57729593949074], [-72.59258999566923, 42.57729301452556], [-72.59258779732477, 42.57729008954884], [-72.59258312490277, 42.5772843556441], [-72.59258065452605, 42.577281549381965], [-72.59257818541424, 42.57727874580875], [-72.59257298385596, 42.57727326719785], [-72.59257025514148, 42.577270596626356], [-72.59256752642715, 42.57726792605481], [-72.59256182054476, 42.577262728611494], [-72.59255884587512, 42.57726020531721], [-72.59255587242365, 42.577257682011385], [-72.5925496894653, 42.577252791586275], [-72.59254648487708, 42.57725042712133], [-72.59254328030468, 42.57724806355643], [-72.59253665112539, 42.57724350326512], [-72.59253323023478, 42.5772413101047], [-72.59252981057791, 42.57723911783278], [-72.59252276725066, 42.57723491077933], [-72.59251914728098, 42.57723289866365], [-72.59251552854502, 42.57723088743648], [-72.59250810553198, 42.57722705400146], [-72.5925005055818, 42.577223414005665], [-72.59249662266572, 42.57722169337602], [-72.59249273853186, 42.57721997275778], [-72.5924848129702, 42.57721673377764], [-72.5924807739941, 42.57721521629288], [-72.5924767411548, 42.57721370145071], [-72.59246852922207, 42.57721087841973], [-72.59246018942989, 42.5772082690702], [-72.59245595622853, 42.577207072130584], [-72.59245173280236, 42.577205876898894], [-72.59244316669403, 42.57720370453706], [-72.59243883500474, 42.57720272910343]]], &quot;type&quot;: &quot;Polygon&quot;}, &quot;id&quot;: &quot;8275&quot;, &quot;properties&quot;: {&quot;LOT_SIZE&quot;: 8.1, &quot;LS_BOOK&quot;: &quot;5169&quot;, &quot;LS_PAGE&quot;: &quot;130&quot;, &quot;OWNER1&quot;: &quot;BAILEY JOHN G&quot;, &quot;SITE_ADDR&quot;: &quot;172 HIGHLAND AVE EX&quot;, &quot;TOTAL_VAL&quot;: 89800}, &quot;type&quot;: &quot;Feature&quot;}], &quot;type&quot;: &quot;FeatureCollection&quot;});\n",
       "\n",
       "        \n",
       "    \n",
       "    geo_json_1f4527757253a7b42bb5230a57f013ac.bindTooltip(\n",
       "    function(layer){\n",
       "    let div = L.DomUtil.create(&#x27;div&#x27;);\n",
       "    \n",
       "    let handleObject = feature=&gt;typeof(feature)==&#x27;object&#x27; ? JSON.stringify(feature) : feature;\n",
       "    let fields = [&quot;TOTAL_VAL&quot;, &quot;LOT_SIZE&quot;, &quot;SITE_ADDR&quot;, &quot;OWNER1&quot;, &quot;LS_BOOK&quot;, &quot;LS_PAGE&quot;];\n",
       "    let aliases = [&quot;TOTAL_VAL&quot;, &quot;LOT_SIZE&quot;, &quot;SITE_ADDR&quot;, &quot;OWNER1&quot;, &quot;LS_BOOK&quot;, &quot;LS_PAGE&quot;];\n",
       "    let table = &#x27;&lt;table&gt;&#x27; +\n",
       "        String(\n",
       "        fields.map(\n",
       "        (v,i)=&gt;\n",
       "        `&lt;tr&gt;\n",
       "            &lt;th&gt;${aliases[i]}&lt;/th&gt;\n",
       "            \n",
       "            &lt;td&gt;${handleObject(layer.feature.properties[v])}&lt;/td&gt;\n",
       "        &lt;/tr&gt;`).join(&#x27;&#x27;))\n",
       "    +&#x27;&lt;/table&gt;&#x27;;\n",
       "    div.innerHTML=table;\n",
       "    \n",
       "    return div\n",
       "    }\n",
       "    ,{&quot;className&quot;: &quot;foliumtooltip&quot;, &quot;sticky&quot;: true});\n",
       "                     \n",
       "&lt;/script&gt;\" style=\"position:absolute;width:100%;height:100%;left:0;top:0;border:none !important;\" allowfullscreen webkitallowfullscreen mozallowfullscreen></iframe></div></div>"
      ],
      "text/plain": [
       "<folium.folium.Map at 0x1b162e7c0>"
      ]
     },
     "execution_count": 26,
     "metadata": {},
     "output_type": "execute_result"
    }
   ],
   "source": [
    "df.explore()"
   ]
  },
  {
   "cell_type": "markdown",
   "id": "67ca0665-b771-448c-9177-7536f9a5d4fc",
   "metadata": {},
   "source": [
    "## Total Acreage"
   ]
  },
  {
   "cell_type": "code",
   "execution_count": 9,
   "id": "c7172544-f483-45af-b434-d0380ddee283",
   "metadata": {},
   "outputs": [
    {
     "data": {
      "text/plain": [
       "19.68"
      ]
     },
     "execution_count": 9,
     "metadata": {},
     "output_type": "execute_result"
    }
   ],
   "source": [
    "df.LOT_SIZE.sum()"
   ]
  },
  {
   "cell_type": "markdown",
   "id": "c5452082-1ad3-43d1-85a3-1589426312d2",
   "metadata": {},
   "source": [
    "## Total Value"
   ]
  },
  {
   "cell_type": "code",
   "execution_count": 23,
   "id": "280c12c0-cd90-4333-815f-8d613285062a",
   "metadata": {},
   "outputs": [
    {
     "name": "stdout",
     "output_type": "stream",
     "text": [
      "$228,000\n"
     ]
    }
   ],
   "source": [
    "print('${:,.0f}'.format(df.TOTAL_VAL.sum()))"
   ]
  },
  {
   "cell_type": "code",
   "execution_count": null,
   "id": "2742910f-14f5-4016-9fef-9e12e938b8b9",
   "metadata": {},
   "outputs": [],
   "source": []
  }
 ],
 "metadata": {
  "kernelspec": {
   "display_name": "Python 3 (ipykernel)",
   "language": "python",
   "name": "python3"
  },
  "language_info": {
   "codemirror_mode": {
    "name": "ipython",
    "version": 3
   },
   "file_extension": ".py",
   "mimetype": "text/x-python",
   "name": "python",
   "nbconvert_exporter": "python",
   "pygments_lexer": "ipython3",
   "version": "3.9.13"
  }
 },
 "nbformat": 4,
 "nbformat_minor": 5
}

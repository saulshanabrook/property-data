{
 "cells": [
  {
   "cell_type": "code",
   "execution_count": 1,
   "id": "ae3b3308-daef-4080-9b96-82223c715eec",
   "metadata": {},
   "outputs": [
    {
     "name": "stderr",
     "output_type": "stream",
     "text": [
      "/usr/local/Caskroom/miniconda/base/envs/property-data/lib/python3.9/site-packages/requests/__init__.py:109: RequestsDependencyWarning: urllib3 (1.26.9) or chardet (5.0.0)/charset_normalizer (2.0.12) doesn't match a supported version!\n",
      "  warnings.warn(\n"
     ]
    }
   ],
   "source": [
    "from load_data import df\n",
    "\n",
    "import geopandas as gpd\n",
    "from distance_matrix import add_directions_columns"
   ]
  },
  {
   "cell_type": "code",
   "execution_count": 2,
   "id": "b9159619-be58-44c4-8cc1-2c4f06cf36c6",
   "metadata": {},
   "outputs": [
    {
     "ename": "IndexError",
     "evalue": "index out of range",
     "output_type": "error",
     "traceback": [
      "\u001b[0;31m---------------------------------------------------------------------------\u001b[0m",
      "\u001b[0;31mIndexError\u001b[0m                                Traceback (most recent call last)",
      "Input \u001b[0;32mIn [2]\u001b[0m, in \u001b[0;36m<cell line: 58>\u001b[0;34m()\u001b[0m\n\u001b[1;32m     16\u001b[0m HIDE_USE_DESCS \u001b[38;5;241m=\u001b[39m [\n\u001b[1;32m     17\u001b[0m     \u001b[38;5;124m\"\u001b[39m\u001b[38;5;124mUndevelopable Residential Land\u001b[39m\u001b[38;5;124m\"\u001b[39m,\n\u001b[1;32m     18\u001b[0m     \u001b[38;5;124m\"\u001b[39m\u001b[38;5;124mAll land designated under Chapter 61 (not classified as Open Space)\u001b[39m\u001b[38;5;124m\"\u001b[39m,\n\u001b[0;32m   (...)\u001b[0m\n\u001b[1;32m     52\u001b[0m     \u001b[38;5;124m\"\u001b[39m\u001b[38;5;124mDept. of Conservation and Recreation (DCR) - Division of Water Supply Protection\u001b[39m\u001b[38;5;124m\"\u001b[39m,\n\u001b[1;32m     53\u001b[0m ]\n\u001b[1;32m     55\u001b[0m filtered \u001b[38;5;241m=\u001b[39m df\u001b[38;5;241m.\u001b[39mquery(\n\u001b[1;32m     56\u001b[0m     \u001b[38;5;124m'\u001b[39m\u001b[38;5;124mCITY.str.lower() == @NO_MAX_OCCUPANCY and LOT_SIZE > 10 and USE_DESC != @HIDE_USE_DESCS and TOTAL_VAL < 200000\u001b[39m\u001b[38;5;124m'\u001b[39m\n\u001b[1;32m     57\u001b[0m )\n\u001b[0;32m---> 58\u001b[0m filtered \u001b[38;5;241m=\u001b[39m \u001b[43madd_directions_columns\u001b[49m\u001b[43m(\u001b[49m\u001b[43mfiltered\u001b[49m\u001b[43m)\u001b[49m\u001b[38;5;241m.\u001b[39mquery(\n\u001b[1;32m     59\u001b[0m     \u001b[38;5;124m'\u001b[39m\u001b[38;5;124mduration < 30\u001b[39m\u001b[38;5;124m'\u001b[39m\n\u001b[1;32m     60\u001b[0m )\n\u001b[1;32m     61\u001b[0m filtered\u001b[38;5;241m.\u001b[39minfo()\n",
      "File \u001b[0;32m~/p/property-data/distance_matrix.py:15\u001b[0m, in \u001b[0;36madd_directions_columns\u001b[0;34m(df)\u001b[0m\n\u001b[1;32m     10\u001b[0m \u001b[38;5;28;01mdef\u001b[39;00m \u001b[38;5;21madd_directions_columns\u001b[39m(df):\n\u001b[1;32m     11\u001b[0m     \u001b[38;5;124;03m\"\"\"\u001b[39;00m\n\u001b[1;32m     12\u001b[0m \u001b[38;5;124;03m    Adds duration (minutes) and a distance (kms) columns to the dataframe, using the\u001b[39;00m\n\u001b[1;32m     13\u001b[0m \u001b[38;5;124;03m    distance matrix API.\u001b[39;00m\n\u001b[1;32m     14\u001b[0m \u001b[38;5;124;03m    \"\"\"\u001b[39;00m\n\u001b[0;32m---> 15\u001b[0m     lat_longs \u001b[38;5;241m=\u001b[39m \u001b[43mdf\u001b[49m\u001b[38;5;241;43m.\u001b[39;49m\u001b[43mgeometry\u001b[49m\u001b[38;5;241;43m.\u001b[39;49m\u001b[43mcentroid\u001b[49m\u001b[38;5;241;43m.\u001b[39;49m\u001b[43mto_crs\u001b[49m\u001b[43m(\u001b[49m\u001b[38;5;124;43m\"\u001b[39;49m\u001b[38;5;124;43mEPSG:4326\u001b[39;49m\u001b[38;5;124;43m\"\u001b[39;49m\u001b[43m)\u001b[49m\u001b[38;5;241;43m.\u001b[39;49m\u001b[43mapply\u001b[49m\u001b[43m(\u001b[49m\u001b[38;5;28;43;01mlambda\u001b[39;49;00m\u001b[43m \u001b[49m\u001b[43mpt\u001b[49m\u001b[43m:\u001b[49m\u001b[43m \u001b[49m\u001b[43m(\u001b[49m\u001b[43mpt\u001b[49m\u001b[38;5;241;43m.\u001b[39;49m\u001b[43my\u001b[49m\u001b[43m,\u001b[49m\u001b[43m \u001b[49m\u001b[43mpt\u001b[49m\u001b[38;5;241;43m.\u001b[39;49m\u001b[43mx\u001b[49m\u001b[43m)\u001b[49m\u001b[43m)\u001b[49m\n\u001b[1;32m     16\u001b[0m     results \u001b[38;5;241m=\u001b[39m fetch_data(lat_longs)\n\u001b[1;32m     17\u001b[0m     duration \u001b[38;5;241m=\u001b[39m [r[\u001b[38;5;124m'\u001b[39m\u001b[38;5;124mduration\u001b[39m\u001b[38;5;124m'\u001b[39m][\u001b[38;5;124m'\u001b[39m\u001b[38;5;124mvalue\u001b[39m\u001b[38;5;124m'\u001b[39m] \u001b[38;5;241m/\u001b[39m \u001b[38;5;241m60\u001b[39m \u001b[38;5;28;01mfor\u001b[39;00m r \u001b[38;5;129;01min\u001b[39;00m results]\n",
      "File \u001b[0;32m/usr/local/Caskroom/miniconda/base/envs/property-data/lib/python3.9/site-packages/geopandas/geoseries.py:643\u001b[0m, in \u001b[0;36mGeoSeries.apply\u001b[0;34m(self, func, convert_dtype, args, **kwargs)\u001b[0m\n\u001b[1;32m    641\u001b[0m \u001b[38;5;129m@doc\u001b[39m(pd\u001b[38;5;241m.\u001b[39mSeries)\n\u001b[1;32m    642\u001b[0m \u001b[38;5;28;01mdef\u001b[39;00m \u001b[38;5;21mapply\u001b[39m(\u001b[38;5;28mself\u001b[39m, func, convert_dtype\u001b[38;5;241m=\u001b[39m\u001b[38;5;28;01mTrue\u001b[39;00m, args\u001b[38;5;241m=\u001b[39m(), \u001b[38;5;241m*\u001b[39m\u001b[38;5;241m*\u001b[39mkwargs):\n\u001b[0;32m--> 643\u001b[0m     result \u001b[38;5;241m=\u001b[39m \u001b[38;5;28;43msuper\u001b[39;49m\u001b[43m(\u001b[49m\u001b[43m)\u001b[49m\u001b[38;5;241;43m.\u001b[39;49m\u001b[43mapply\u001b[49m\u001b[43m(\u001b[49m\u001b[43mfunc\u001b[49m\u001b[43m,\u001b[49m\u001b[43m \u001b[49m\u001b[43mconvert_dtype\u001b[49m\u001b[38;5;241;43m=\u001b[39;49m\u001b[43mconvert_dtype\u001b[49m\u001b[43m,\u001b[49m\u001b[43m \u001b[49m\u001b[43margs\u001b[49m\u001b[38;5;241;43m=\u001b[39;49m\u001b[43margs\u001b[49m\u001b[43m,\u001b[49m\u001b[43m \u001b[49m\u001b[38;5;241;43m*\u001b[39;49m\u001b[38;5;241;43m*\u001b[39;49m\u001b[43mkwargs\u001b[49m\u001b[43m)\u001b[49m\n\u001b[1;32m    644\u001b[0m     \u001b[38;5;28;01mif\u001b[39;00m \u001b[38;5;28misinstance\u001b[39m(result, GeoSeries):\n\u001b[1;32m    645\u001b[0m         \u001b[38;5;28;01mif\u001b[39;00m \u001b[38;5;28mself\u001b[39m\u001b[38;5;241m.\u001b[39mcrs \u001b[38;5;129;01mis\u001b[39;00m \u001b[38;5;129;01mnot\u001b[39;00m \u001b[38;5;28;01mNone\u001b[39;00m:\n",
      "File \u001b[0;32m/usr/local/Caskroom/miniconda/base/envs/property-data/lib/python3.9/site-packages/pandas/core/series.py:4433\u001b[0m, in \u001b[0;36mSeries.apply\u001b[0;34m(self, func, convert_dtype, args, **kwargs)\u001b[0m\n\u001b[1;32m   4323\u001b[0m \u001b[38;5;28;01mdef\u001b[39;00m \u001b[38;5;21mapply\u001b[39m(\n\u001b[1;32m   4324\u001b[0m     \u001b[38;5;28mself\u001b[39m,\n\u001b[1;32m   4325\u001b[0m     func: AggFuncType,\n\u001b[0;32m   (...)\u001b[0m\n\u001b[1;32m   4328\u001b[0m     \u001b[38;5;241m*\u001b[39m\u001b[38;5;241m*\u001b[39mkwargs,\n\u001b[1;32m   4329\u001b[0m ) \u001b[38;5;241m-\u001b[39m\u001b[38;5;241m>\u001b[39m DataFrame \u001b[38;5;241m|\u001b[39m Series:\n\u001b[1;32m   4330\u001b[0m     \u001b[38;5;124;03m\"\"\"\u001b[39;00m\n\u001b[1;32m   4331\u001b[0m \u001b[38;5;124;03m    Invoke function on values of Series.\u001b[39;00m\n\u001b[1;32m   4332\u001b[0m \n\u001b[0;32m   (...)\u001b[0m\n\u001b[1;32m   4431\u001b[0m \u001b[38;5;124;03m    dtype: float64\u001b[39;00m\n\u001b[1;32m   4432\u001b[0m \u001b[38;5;124;03m    \"\"\"\u001b[39;00m\n\u001b[0;32m-> 4433\u001b[0m     \u001b[38;5;28;01mreturn\u001b[39;00m \u001b[43mSeriesApply\u001b[49m\u001b[43m(\u001b[49m\u001b[38;5;28;43mself\u001b[39;49m\u001b[43m,\u001b[49m\u001b[43m \u001b[49m\u001b[43mfunc\u001b[49m\u001b[43m,\u001b[49m\u001b[43m \u001b[49m\u001b[43mconvert_dtype\u001b[49m\u001b[43m,\u001b[49m\u001b[43m \u001b[49m\u001b[43margs\u001b[49m\u001b[43m,\u001b[49m\u001b[43m \u001b[49m\u001b[43mkwargs\u001b[49m\u001b[43m)\u001b[49m\u001b[38;5;241;43m.\u001b[39;49m\u001b[43mapply\u001b[49m\u001b[43m(\u001b[49m\u001b[43m)\u001b[49m\n",
      "File \u001b[0;32m/usr/local/Caskroom/miniconda/base/envs/property-data/lib/python3.9/site-packages/pandas/core/apply.py:1082\u001b[0m, in \u001b[0;36mSeriesApply.apply\u001b[0;34m(self)\u001b[0m\n\u001b[1;32m   1078\u001b[0m \u001b[38;5;28;01mif\u001b[39;00m \u001b[38;5;28misinstance\u001b[39m(\u001b[38;5;28mself\u001b[39m\u001b[38;5;241m.\u001b[39mf, \u001b[38;5;28mstr\u001b[39m):\n\u001b[1;32m   1079\u001b[0m     \u001b[38;5;66;03m# if we are a string, try to dispatch\u001b[39;00m\n\u001b[1;32m   1080\u001b[0m     \u001b[38;5;28;01mreturn\u001b[39;00m \u001b[38;5;28mself\u001b[39m\u001b[38;5;241m.\u001b[39mapply_str()\n\u001b[0;32m-> 1082\u001b[0m \u001b[38;5;28;01mreturn\u001b[39;00m \u001b[38;5;28;43mself\u001b[39;49m\u001b[38;5;241;43m.\u001b[39;49m\u001b[43mapply_standard\u001b[49m\u001b[43m(\u001b[49m\u001b[43m)\u001b[49m\n",
      "File \u001b[0;32m/usr/local/Caskroom/miniconda/base/envs/property-data/lib/python3.9/site-packages/pandas/core/apply.py:1137\u001b[0m, in \u001b[0;36mSeriesApply.apply_standard\u001b[0;34m(self)\u001b[0m\n\u001b[1;32m   1131\u001b[0m         values \u001b[38;5;241m=\u001b[39m obj\u001b[38;5;241m.\u001b[39mastype(\u001b[38;5;28mobject\u001b[39m)\u001b[38;5;241m.\u001b[39m_values\n\u001b[1;32m   1132\u001b[0m         \u001b[38;5;66;03m# error: Argument 2 to \"map_infer\" has incompatible type\u001b[39;00m\n\u001b[1;32m   1133\u001b[0m         \u001b[38;5;66;03m# \"Union[Callable[..., Any], str, List[Union[Callable[..., Any], str]],\u001b[39;00m\n\u001b[1;32m   1134\u001b[0m         \u001b[38;5;66;03m# Dict[Hashable, Union[Union[Callable[..., Any], str],\u001b[39;00m\n\u001b[1;32m   1135\u001b[0m         \u001b[38;5;66;03m# List[Union[Callable[..., Any], str]]]]]\"; expected\u001b[39;00m\n\u001b[1;32m   1136\u001b[0m         \u001b[38;5;66;03m# \"Callable[[Any], Any]\"\u001b[39;00m\n\u001b[0;32m-> 1137\u001b[0m         mapped \u001b[38;5;241m=\u001b[39m \u001b[43mlib\u001b[49m\u001b[38;5;241;43m.\u001b[39;49m\u001b[43mmap_infer\u001b[49m\u001b[43m(\u001b[49m\n\u001b[1;32m   1138\u001b[0m \u001b[43m            \u001b[49m\u001b[43mvalues\u001b[49m\u001b[43m,\u001b[49m\n\u001b[1;32m   1139\u001b[0m \u001b[43m            \u001b[49m\u001b[43mf\u001b[49m\u001b[43m,\u001b[49m\u001b[43m  \u001b[49m\u001b[38;5;66;43;03m# type: ignore[arg-type]\u001b[39;49;00m\n\u001b[1;32m   1140\u001b[0m \u001b[43m            \u001b[49m\u001b[43mconvert\u001b[49m\u001b[38;5;241;43m=\u001b[39;49m\u001b[38;5;28;43mself\u001b[39;49m\u001b[38;5;241;43m.\u001b[39;49m\u001b[43mconvert_dtype\u001b[49m\u001b[43m,\u001b[49m\n\u001b[1;32m   1141\u001b[0m \u001b[43m        \u001b[49m\u001b[43m)\u001b[49m\n\u001b[1;32m   1143\u001b[0m \u001b[38;5;28;01mif\u001b[39;00m \u001b[38;5;28mlen\u001b[39m(mapped) \u001b[38;5;129;01mand\u001b[39;00m \u001b[38;5;28misinstance\u001b[39m(mapped[\u001b[38;5;241m0\u001b[39m], ABCSeries):\n\u001b[1;32m   1144\u001b[0m     \u001b[38;5;66;03m# GH#43986 Need to do list(mapped) in order to get treated as nested\u001b[39;00m\n\u001b[1;32m   1145\u001b[0m     \u001b[38;5;66;03m#  See also GH#25959 regarding EA support\u001b[39;00m\n\u001b[1;32m   1146\u001b[0m     \u001b[38;5;28;01mreturn\u001b[39;00m obj\u001b[38;5;241m.\u001b[39m_constructor_expanddim(\u001b[38;5;28mlist\u001b[39m(mapped), index\u001b[38;5;241m=\u001b[39mobj\u001b[38;5;241m.\u001b[39mindex)\n",
      "File \u001b[0;32m/usr/local/Caskroom/miniconda/base/envs/property-data/lib/python3.9/site-packages/pandas/_libs/lib.pyx:2870\u001b[0m, in \u001b[0;36mpandas._libs.lib.map_infer\u001b[0;34m()\u001b[0m\n",
      "File \u001b[0;32m~/p/property-data/distance_matrix.py:15\u001b[0m, in \u001b[0;36madd_directions_columns.<locals>.<lambda>\u001b[0;34m(pt)\u001b[0m\n\u001b[1;32m     10\u001b[0m \u001b[38;5;28;01mdef\u001b[39;00m \u001b[38;5;21madd_directions_columns\u001b[39m(df):\n\u001b[1;32m     11\u001b[0m     \u001b[38;5;124;03m\"\"\"\u001b[39;00m\n\u001b[1;32m     12\u001b[0m \u001b[38;5;124;03m    Adds duration (minutes) and a distance (kms) columns to the dataframe, using the\u001b[39;00m\n\u001b[1;32m     13\u001b[0m \u001b[38;5;124;03m    distance matrix API.\u001b[39;00m\n\u001b[1;32m     14\u001b[0m \u001b[38;5;124;03m    \"\"\"\u001b[39;00m\n\u001b[0;32m---> 15\u001b[0m     lat_longs \u001b[38;5;241m=\u001b[39m df\u001b[38;5;241m.\u001b[39mgeometry\u001b[38;5;241m.\u001b[39mcentroid\u001b[38;5;241m.\u001b[39mto_crs(\u001b[38;5;124m\"\u001b[39m\u001b[38;5;124mEPSG:4326\u001b[39m\u001b[38;5;124m\"\u001b[39m)\u001b[38;5;241m.\u001b[39mapply(\u001b[38;5;28;01mlambda\u001b[39;00m pt: (\u001b[43mpt\u001b[49m\u001b[38;5;241;43m.\u001b[39;49m\u001b[43my\u001b[49m, pt\u001b[38;5;241m.\u001b[39mx))\n\u001b[1;32m     16\u001b[0m     results \u001b[38;5;241m=\u001b[39m fetch_data(lat_longs)\n\u001b[1;32m     17\u001b[0m     duration \u001b[38;5;241m=\u001b[39m [r[\u001b[38;5;124m'\u001b[39m\u001b[38;5;124mduration\u001b[39m\u001b[38;5;124m'\u001b[39m][\u001b[38;5;124m'\u001b[39m\u001b[38;5;124mvalue\u001b[39m\u001b[38;5;124m'\u001b[39m] \u001b[38;5;241m/\u001b[39m \u001b[38;5;241m60\u001b[39m \u001b[38;5;28;01mfor\u001b[39;00m r \u001b[38;5;129;01min\u001b[39;00m results]\n",
      "File \u001b[0;32m/usr/local/Caskroom/miniconda/base/envs/property-data/lib/python3.9/site-packages/shapely/geometry/point.py:71\u001b[0m, in \u001b[0;36mPoint.y\u001b[0;34m(self)\u001b[0m\n\u001b[1;32m     68\u001b[0m \u001b[38;5;129m@property\u001b[39m\n\u001b[1;32m     69\u001b[0m \u001b[38;5;28;01mdef\u001b[39;00m \u001b[38;5;21my\u001b[39m(\u001b[38;5;28mself\u001b[39m):\n\u001b[1;32m     70\u001b[0m     \u001b[38;5;124;03m\"\"\"Return y coordinate.\"\"\"\u001b[39;00m\n\u001b[0;32m---> 71\u001b[0m     \u001b[38;5;28;01mreturn\u001b[39;00m \u001b[38;5;28;43mself\u001b[39;49m\u001b[38;5;241;43m.\u001b[39;49m\u001b[43mcoords\u001b[49m\u001b[43m[\u001b[49m\u001b[38;5;241;43m0\u001b[39;49m\u001b[43m]\u001b[49m[\u001b[38;5;241m1\u001b[39m]\n",
      "File \u001b[0;32m/usr/local/Caskroom/miniconda/base/envs/property-data/lib/python3.9/site-packages/shapely/coords.py:85\u001b[0m, in \u001b[0;36mCoordinateSequence.__getitem__\u001b[0;34m(self, key)\u001b[0m\n\u001b[1;32m     83\u001b[0m \u001b[38;5;28;01mif\u001b[39;00m \u001b[38;5;28misinstance\u001b[39m(key, \u001b[38;5;28mint\u001b[39m):\n\u001b[1;32m     84\u001b[0m     \u001b[38;5;28;01mif\u001b[39;00m \u001b[38;5;28mself\u001b[39m\u001b[38;5;241m.\u001b[39m_cseq \u001b[38;5;129;01mis\u001b[39;00m \u001b[38;5;28;01mNone\u001b[39;00m \u001b[38;5;129;01mor\u001b[39;00m key \u001b[38;5;241m+\u001b[39m m \u001b[38;5;241m<\u001b[39m \u001b[38;5;241m0\u001b[39m \u001b[38;5;129;01mor\u001b[39;00m key \u001b[38;5;241m>\u001b[39m\u001b[38;5;241m=\u001b[39m m:\n\u001b[0;32m---> 85\u001b[0m         \u001b[38;5;28;01mraise\u001b[39;00m \u001b[38;5;167;01mIndexError\u001b[39;00m(\u001b[38;5;124m\"\u001b[39m\u001b[38;5;124mindex out of range\u001b[39m\u001b[38;5;124m\"\u001b[39m)\n\u001b[1;32m     86\u001b[0m     \u001b[38;5;28;01mif\u001b[39;00m key \u001b[38;5;241m<\u001b[39m \u001b[38;5;241m0\u001b[39m:\n\u001b[1;32m     87\u001b[0m         i \u001b[38;5;241m=\u001b[39m m \u001b[38;5;241m+\u001b[39m key\n",
      "\u001b[0;31mIndexError\u001b[0m: index out of range"
     ]
    }
   ],
   "source": [
    "NO_MAX_OCCUPANCY = [\n",
    "    \"wendell\",\n",
    "    \"greenfield\",\n",
    "    \"bernardston\",\n",
    "    \"charlemont\",\n",
    "    \"buckland\",\n",
    "    \"shelburne\",\n",
    "    \"ashfield\",\n",
    "    \"conway\",\n",
    "    \"deerfield\",\n",
    "    \"montague\",\n",
    "    \"cummington\",\n",
    "    \"leverett\"\n",
    "]\n",
    "\n",
    "HIDE_USE_DESCS = [\n",
    "    \"Undevelopable Residential Land\",\n",
    "    \"All land designated under Chapter 61 (not classified as Open Space)\",\n",
    "    \"Vacant, Conservation Organizations (Charitable Org.)\",\n",
    "    \"Dept. of Fish and Game (DFG) -- formerly Division of Fisheries and Wildlife, Environmental Law Enforcement (DFWELE)\",\n",
    "    \"Dept. of Conservation and Recreation (DCR), Division of State Parks and Recreation\",\n",
    "    \"Improved, Selectmen or City Council (Municipal)\",\n",
    "    \"Vacant, Other District (County)\",\n",
    "    \"(formerly Colleges, Schools(private).  Removed June 2009. )\",\n",
    "    \"Dept. of Education (DOE) - UMass., State Colleges, Community Colleges\",\n",
    "    \"Secondary Level (Educational Private)\",\n",
    "    \"Productive Woodland - woodlots (Ch. 61A, not classified as Open Space)\",\n",
    "    \"Field Crops - hay, wheat, tillable forage, cropland, etc... (Ch. 61A, not classified as Open Space)\",\n",
    "    \"Nature Study - areas specifically for nature study or observation (Ch. 61B, not classified as Open Space)\",\n",
    "    \"Pasture (Ch. 61A, not classified as Open Space)\",\n",
    "    \"Truck Crops - vegetables (Ch. 61A, not classified as Open Space)\",\n",
    "    \"Hiking - trails or paths, Camping - areas with sites for overnight camping, Nature Study (Ch. 61B, not classified as OS)\",\n",
    "    \"Necessary related land-farm roads, ponds, land under farm buildings (Ch. 61A, not classified as Open Space)\",\n",
    "    \"Agricultural/Horticultural Land not included in Chapter 61A\",\n",
    "    \"Hunting - areas for the hunting of wildlife (Ch. 61B, not classified as Open Space)\",\n",
    "    \"Nurseries (Ch. 61A, not classified as Open Space)\",\n",
    "    \"Wet land, scrub land, rock land (Ch. 61A, not classified as Open Space)\",\n",
    "    \"Orchards - pears, apples, grape vineyards, etc... (Ch. 61A, not classified as Open Space)\",\n",
    "    \"Tobacco, Sod (Ch. 61A, not classified as Open Space)\",\n",
    "    \"Camping - areas with sites for overnight camping (Ch. 61B, not classified as Open Space)\",\n",
    "    \"Christmas Trees (Ch. 61A, not classified as Open Space)\",\n",
    "    \"Golfing - areas of land arranged as a golf course (Ch. 61B, not classified as Open Space)\",\n",
    "    \"Horseback Riding - trails or areas (Ch. 61B, not classified as Open Space)\",\n",
    "    \"Vacant, Selectmen or City Council (Municipal)\",\n",
    "    \"Vacant, District (County)\",\n",
    "    \"Vacant, Conservation (Municipal or County)\",\n",
    "    \"Electric Transmission Right-of-Way\",\n",
    "    \"(formerly Charitable Organizations (private hospitals, etc...).  Removed June 2009. )\",\n",
    "    \"(formerly Municipalities/Districts.  Removed June 2009.)\",\n",
    "    \"(formerly Commonwealth of Massachusetts.  Removed June 2009.)\",\n",
    "    \"Undevelopable Commercial Land\",\n",
    "    \"Dept. of Conservation and Recreation (DCR) - Division of Water Supply Protection\",\n",
    "]\n",
    "\n",
    "filtered = df.query(\n",
    "    'CITY.str.lower() == @NO_MAX_OCCUPANCY and LOT_SIZE > 10 and USE_DESC != @HIDE_USE_DESCS and TOTAL_VAL < 200000'\n",
    ")\n",
    "filtered = add_directions_columns(filtered).query(\n",
    "    'duration < 30'\n",
    ")\n",
    "filtered.info()"
   ]
  },
  {
   "cell_type": "code",
   "execution_count": 27,
   "id": "2535fe7e-5b69-465a-9f28-ac7efb9d97b8",
   "metadata": {},
   "outputs": [],
   "source": [
    "import sweetviz"
   ]
  },
  {
   "cell_type": "code",
   "execution_count": 105,
   "id": "284e0a13-599f-4ee9-ace6-76e76b854b46",
   "metadata": {},
   "outputs": [
    {
     "data": {
      "application/vnd.jupyter.widget-view+json": {
       "model_id": "0e82610ea19446379a4ba44c89a69b86",
       "version_major": 2,
       "version_minor": 0
      },
      "text/plain": [
       "                                             |                                                                …"
      ]
     },
     "metadata": {},
     "output_type": "display_data"
    },
    {
     "name": "stdout",
     "output_type": "stream",
     "text": [
      "Report SWEETVIZ_REPORT.html was generated! NOTEBOOK/COLAB USERS: the web browser MAY not pop up, regardless, the report IS saved in your notebook/colab files.\n"
     ]
    }
   ],
   "source": [
    "sweetviz.analyze((filtered, \"Properties\")).show_html()"
   ]
  },
  {
   "cell_type": "code",
   "execution_count": 14,
   "id": "4876a155-a001-4351-83c2-6fde619ef6dd",
   "metadata": {
    "tags": []
   },
   "outputs": [
    {
     "name": "stdout",
     "output_type": "stream",
     "text": [
      "130: Developable Residential Land                                                                                                233\n",
      "131: Potentially Developable Residential Land                                                                                    112\n",
      "101: Single Family Residential                                                                                                   105\n",
      "016: Mixed Use (Primarily Residential, some Forest)                                                                               62\n",
      "106: Accessory Land with Improvement                                                                                              46\n",
      "017: Mixed Use (Primarily Residential, some Agriculture)                                                                          41\n",
      "073: Mixed Use (Primarily Agriculture, some Commercial)                                                                           35\n",
      "037: Mixed Use (Primarily Commercial, some Agriculture)                                                                           28\n",
      "018: Mixed Use (Primarily Residential, some Recreation)                                                                           24\n",
      "061: Mixed Use (Primarily Forest, some Residential)                                                                               16\n",
      "103: Mobile Home (includes mobile home park land)                                                                                 12\n",
      "410: Sand and Gravel Mining/Quarry                                                                                                 8\n",
      "071: Mixed Use (Primarily Agriculture, some Residential)                                                                           7\n",
      "067: Mixed Use (Primarily Forest, some Agriculture)                                                                                7\n",
      "936: Vacant, Tax Title/Treasurer                                                                                                   5\n",
      "083: Mixed Use (Primarily Recreation, some Commercial)                                                                             5\n",
      "109: Multiple Houses on one parcel                                                                                                 5\n",
      "440: Developable Industrial Land                                                                                                   4\n",
      "958: Recreation, Active Use (Charitable Org.)                                                                                      4\n",
      "087: Mixed Use (Primarily Recreation, some Agriculture)                                                                            4\n",
      "081: Mixed Use (Primarily Recreation, some Residential)                                                                            4\n",
      "933: Vacant, Education (Municipal or County)                                                                                       3\n",
      "990: 121A Corporations                                                                                                             3\n",
      "317: Farm Buildings - barns, silo, utility shed, etc                                                                               3\n",
      "962: Other (Religious Org.)                                                                                                        3\n",
      "038: Mixed Use (Primarily Commercial, some Recreation)                                                                             3\n",
      "422: Electrical Plant                                                                                                              2\n",
      "953: Cemeteries (Charitable Org.)                                                                                                  2\n",
      "960: Church, Mosque, Synagogue, Temple, etc...                                                                                     2\n",
      "441: Potentially Developable Industrial Land                                                                                       2\n",
      "076: Mixed Use (Primarily Agriculture, some Forest)                                                                                2\n",
      "321: Facilities providing building materials, hardware and farm equip, heating, hardware, plumbing, lumber supplies and equip      2\n",
      "442: Undevelopable Industrial Land                                                                                                 2\n",
      "412: Rock Mining/Quarry                                                                                                            2\n",
      "997: Other                                                                                                                         1\n",
      "063: Mixed Use (Primarily Forest, some Commercial)                                                                                 1\n",
      "943: Other Educational (Educational Private)                                                                                       1\n",
      "391: Potentially Developable Commercial Land                                                                                       1\n",
      "031: Mixed Use (Primarily Commercial, some Residential)                                                                            1\n",
      "104: Two-Family Residential                                                                                                        1\n",
      "400: Buildings for manufacturing operations                                                                                        1\n",
      "906: (formerly Religious Organizations.  Removed June 2009.)                                                                       1\n",
      "078: Mixed Use (Primarily Agriculture, some Recreation)                                                                            1\n",
      "084: Mixed Use (Primarily Recreation, some Industrial)                                                                             1\n",
      "424: Electricity Regulating Substations                                                                                            1\n",
      "940: Elementary Level (Educational Private)                                                                                        1\n",
      "013: Mixed Use (Primarily Residential, some Commercial)                                                                            1\n",
      "937: Improved, Tax Title/Treasurer                                                                                                 1\n",
      "939: Improved, District (County)                                                                                                   1\n",
      "354: Bus Transportation Facilities and Related Properties                                                                          1\n",
      "353: Fraternal Organizations                                                                                                       1\n",
      "928: Division of Capital Asset Management (DCAM) - Bureau of State Office Buildings (non-reimbursable)                             1\n",
      "385: Fish and Game Clubs (not Ch. 61B)                                                                                             1\n",
      "971: Utility Authority - Electric, Light, Sewer, Water                                                                             1\n",
      "900: United States Government                                                                                                      1\n",
      "390: Developable Commercial Land                                                                                                   1\n",
      "946: Vacant (Educational Private)                                                                                                  1\n",
      "086: Mixed Use (Primarily Recreation, some Forest)                                                                                 1\n",
      "036: Mixed Use (Primarily Commercial, some Forest)                                                                                 1\n",
      "dtype: int64\n"
     ]
    }
   ],
   "source": [
    "with pd.option_context('display.max_rows', None):\n",
    "    print(filtered.agg('{0[USE_CODE]}: {0[USE_DESC]}'.format, axis=1).value_counts())"
   ]
  },
  {
   "cell_type": "code",
   "execution_count": 21,
   "id": "8a55afca-6472-41da-9095-50a0bd309e74",
   "metadata": {},
   "outputs": [],
   "source": [
    "filtered.explore(\n",
    "    column=\"CITY\",\n",
    "    # tiles=\"USGS.USImagery\",\n",
    "    tiles='https://server.arcgisonline.com/ArcGIS/rest/services/World_Imagery/MapServer/tile/{z}/{y}/{x}',\n",
    "    attr='ESRI',\n",
    "    popup=True,\n",
    "    tooltip=[\"SITE_ADDR\", \"LOT_SIZE\", \"USE_DESC\", \"CITY\", \"TOTAL_VAL\", \"duration\"],\n",
    "    style_kwds={\"fillOpacity\": 0.2}\n",
    ").save(\n",
    "    'index.html'\n",
    ")"
   ]
  },
  {
   "cell_type": "code",
   "execution_count": 16,
   "id": "cb894d5e-9753-4f89-a3da-57a04433694b",
   "metadata": {},
   "outputs": [],
   "source": [
    "!open index.html"
   ]
  },
  {
   "cell_type": "code",
   "execution_count": null,
   "id": "45ab1311-ceba-4f2f-a8ab-84ca01222efd",
   "metadata": {},
   "outputs": [],
   "source": []
  }
 ],
 "metadata": {
  "kernelspec": {
   "display_name": "Python 3 (ipykernel)",
   "language": "python",
   "name": "python3"
  },
  "language_info": {
   "codemirror_mode": {
    "name": "ipython",
    "version": 3
   },
   "file_extension": ".py",
   "mimetype": "text/x-python",
   "name": "python",
   "nbconvert_exporter": "python",
   "pygments_lexer": "ipython3",
   "version": "3.9.13"
  },
  "vscode": {
   "interpreter": {
    "hash": "2f348058640437cc0b8ca7bc0b9dc73cd8441607caf3ce42a7002ade5e3a949c"
   }
  }
 },
 "nbformat": 4,
 "nbformat_minor": 5
}

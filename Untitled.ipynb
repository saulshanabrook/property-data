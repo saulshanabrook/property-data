{
 "cells": [
  {
   "cell_type": "code",
   "execution_count": 3,
   "id": "ae3b3308-daef-4080-9b96-82223c715eec",
   "metadata": {},
   "outputs": [],
   "source": [
    "from __future__ import print_function\n",
    "\n",
    "import sqlite3\n",
    "\n",
    "import geopandas as gpd\n",
    "from distance_matrix import add_directions_columns\n",
    "\n",
    "con = sqlite3.connect(\"property-data.db\")\n",
    "con.enable_load_extension(True)\n",
    "con.load_extension(\"mod_spatialite\")\n",
    "\n",
    "\n",
    "# SQL must wrap the geometry in hex(st_asbinary(...))\n",
    "sql = \"SELECT *, Hex(ST_AsBinary(ST_Transform(GEOMETRY, 26986))) as geom FROM parcels;\"\n",
    "df = gpd.GeoDataFrame.from_postgis(sql, con, geom_col=\"geom\")"
   ]
  },
  {
   "cell_type": "code",
   "execution_count": 4,
   "id": "32d7eba2-b3be-4378-a9a9-0cf86b482eba",
   "metadata": {},
   "outputs": [],
   "source": [
    "import pandas as pd\n",
    "pd.set_option('display.max_columns', None)\n",
    "pd.set_option('display.max_rows', 100)"
   ]
  },
  {
   "cell_type": "code",
   "execution_count": 17,
   "id": "b9159619-be58-44c4-8cc1-2c4f06cf36c6",
   "metadata": {},
   "outputs": [
    {
     "name": "stdout",
     "output_type": "stream",
     "text": [
      "<class 'geopandas.geodataframe.GeoDataFrame'>\n",
      "Int64Index: 603 entries, 825 to 37630\n",
      "Data columns (total 39 columns):\n",
      " #   Column      Non-Null Count  Dtype   \n",
      "---  ------      --------------  -----   \n",
      " 0   BLDG_VAL    603 non-null    int64   \n",
      " 1   LAND_VAL    603 non-null    int64   \n",
      " 2   OTHER_VAL   603 non-null    int64   \n",
      " 3   TOTAL_VAL   603 non-null    int64   \n",
      " 4   FY          603 non-null    int64   \n",
      " 5   LOT_SIZE    603 non-null    float64 \n",
      " 6   LS_DATE     603 non-null    object  \n",
      " 7   LS_PRICE    603 non-null    int64   \n",
      " 8   USE_CODE    603 non-null    object  \n",
      " 9   SITE_ADDR   603 non-null    object  \n",
      " 10  ADDR_NUM    603 non-null    object  \n",
      " 11  FULL_STR    603 non-null    object  \n",
      " 12  LOCATION    603 non-null    object  \n",
      " 13  CITY        603 non-null    object  \n",
      " 14  ZIP         603 non-null    object  \n",
      " 15  OWNER1      603 non-null    object  \n",
      " 16  OWN_ADDR    603 non-null    object  \n",
      " 17  OWN_CITY    603 non-null    object  \n",
      " 18  OWN_STATE   603 non-null    object  \n",
      " 19  OWN_ZIP     603 non-null    object  \n",
      " 20  OWN_CO      603 non-null    object  \n",
      " 21  LS_BOOK     603 non-null    object  \n",
      " 22  LS_PAGE     603 non-null    object  \n",
      " 23  REG_ID      603 non-null    object  \n",
      " 24  ZONING      603 non-null    object  \n",
      " 25  YEAR_BUILT  603 non-null    int64   \n",
      " 26  BLD_AREA    603 non-null    int64   \n",
      " 27  UNITS       603 non-null    int64   \n",
      " 28  RES_AREA    603 non-null    int64   \n",
      " 29  STYLE       603 non-null    object  \n",
      " 30  STORIES     603 non-null    object  \n",
      " 31  NUM_ROOMS   603 non-null    int64   \n",
      " 32  LOT_UNITS   603 non-null    object  \n",
      " 33  CAMA_ID     603 non-null    int64   \n",
      " 34  USE_DESC    603 non-null    object  \n",
      " 35  rowid       603 non-null    object  \n",
      " 36  geom        603 non-null    geometry\n",
      " 37  duration    603 non-null    float64 \n",
      " 38  distance    603 non-null    float64 \n",
      "dtypes: float64(3), geometry(1), int64(12), object(23)\n",
      "memory usage: 188.4+ KB\n"
     ]
    }
   ],
   "source": [
    "NO_MAX_OCCUPANCY = [\n",
    "    \"wendell\",\n",
    "    \"greenfield\",\n",
    "    \"bernardston\",\n",
    "    \"charlemont\",\n",
    "    \"buckland\",\n",
    "    \"shelburne\",\n",
    "    \"ashfield\",\n",
    "    \"conway\",\n",
    "    \"deerfield\",\n",
    "    \"montague\",\n",
    "    \"cummington\",\n",
    "    \"leverett\"\n",
    "]\n",
    "\n",
    "HIDE_USE_DESCS = [\n",
    "    \"Undevelopable Residential Land\",\n",
    "    \"All land designated under Chapter 61 (not classified as Open Space)\",\n",
    "    \"Vacant, Conservation Organizations (Charitable Org.)\",\n",
    "    \"Dept. of Fish and Game (DFG) -- formerly Division of Fisheries and Wildlife, Environmental Law Enforcement (DFWELE)\",\n",
    "    \"Dept. of Conservation and Recreation (DCR), Division of State Parks and Recreation\",\n",
    "    \"Improved, Selectmen or City Council (Municipal)\",\n",
    "    \"Vacant, Other District (County)\",\n",
    "    \"(formerly Colleges, Schools(private).  Removed June 2009. )\",\n",
    "    \"Dept. of Education (DOE) - UMass., State Colleges, Community Colleges\",\n",
    "    \"Secondary Level (Educational Private)\",\n",
    "    \"Productive Woodland - woodlots (Ch. 61A, not classified as Open Space)\",\n",
    "    \"Field Crops - hay, wheat, tillable forage, cropland, etc... (Ch. 61A, not classified as Open Space)\",\n",
    "    \"Nature Study - areas specifically for nature study or observation (Ch. 61B, not classified as Open Space)\",\n",
    "    \"Pasture (Ch. 61A, not classified as Open Space)\",\n",
    "    \"Truck Crops - vegetables (Ch. 61A, not classified as Open Space)\",\n",
    "    \"Hiking - trails or paths, Camping - areas with sites for overnight camping, Nature Study (Ch. 61B, not classified as OS)\",\n",
    "    \"Necessary related land-farm roads, ponds, land under farm buildings (Ch. 61A, not classified as Open Space)\",\n",
    "    \"Agricultural/Horticultural Land not included in Chapter 61A\",\n",
    "    \"Hunting - areas for the hunting of wildlife (Ch. 61B, not classified as Open Space)\",\n",
    "    \"Nurseries (Ch. 61A, not classified as Open Space)\",\n",
    "    \"Wet land, scrub land, rock land (Ch. 61A, not classified as Open Space)\",\n",
    "    \"Orchards - pears, apples, grape vineyards, etc... (Ch. 61A, not classified as Open Space)\",\n",
    "    \"Tobacco, Sod (Ch. 61A, not classified as Open Space)\",\n",
    "    \"Camping - areas with sites for overnight camping (Ch. 61B, not classified as Open Space)\",\n",
    "    \"Christmas Trees (Ch. 61A, not classified as Open Space)\",\n",
    "    \"Golfing - areas of land arranged as a golf course (Ch. 61B, not classified as Open Space)\",\n",
    "    \"Horseback Riding - trails or areas (Ch. 61B, not classified as Open Space)\",\n",
    "    \"Vacant, Selectmen or City Council (Municipal)\",\n",
    "    \"Vacant, District (County)\",\n",
    "    \"Vacant, Conservation (Municipal or County)\",\n",
    "    \"Electric Transmission Right-of-Way\",\n",
    "    \"(formerly Charitable Organizations (private hospitals, etc...).  Removed June 2009. )\",\n",
    "    \"(formerly Municipalities/Districts.  Removed June 2009.)\",\n",
    "    \"(formerly Commonwealth of Massachusetts.  Removed June 2009.)\",\n",
    "    \"Undevelopable Commercial Land\",\n",
    "    \"Dept. of Conservation and Recreation (DCR) - Division of Water Supply Protection\",\n",
    "]\n",
    "\n",
    "filtered = df.drop(\n",
    "    ['AsGeoJSON(tp.geometry)', 'geometry'],\n",
    "    axis=1\n",
    ").query(\n",
    "    'CITY.str.lower() == @NO_MAX_OCCUPANCY and LOT_SIZE > 10 and USE_DESC != @HIDE_USE_DESCS and TOTAL_VAL < 200000'\n",
    ").set_crs(epsg=26986)\n",
    "filtered = add_directions_columns(filtered).query(\n",
    "    'duration < 30'\n",
    ")\n",
    "filtered.info()"
   ]
  },
  {
   "cell_type": "code",
   "execution_count": 27,
   "id": "2535fe7e-5b69-465a-9f28-ac7efb9d97b8",
   "metadata": {},
   "outputs": [],
   "source": [
    "import sweetviz"
   ]
  },
  {
   "cell_type": "code",
   "execution_count": 105,
   "id": "284e0a13-599f-4ee9-ace6-76e76b854b46",
   "metadata": {},
   "outputs": [
    {
     "data": {
      "application/vnd.jupyter.widget-view+json": {
       "model_id": "0e82610ea19446379a4ba44c89a69b86",
       "version_major": 2,
       "version_minor": 0
      },
      "text/plain": [
       "                                             |                                                                …"
      ]
     },
     "metadata": {},
     "output_type": "display_data"
    },
    {
     "name": "stdout",
     "output_type": "stream",
     "text": [
      "Report SWEETVIZ_REPORT.html was generated! NOTEBOOK/COLAB USERS: the web browser MAY not pop up, regardless, the report IS saved in your notebook/colab files.\n"
     ]
    }
   ],
   "source": [
    "sweetviz.analyze((filtered, \"Properties\")).show_html()"
   ]
  },
  {
   "cell_type": "code",
   "execution_count": 14,
   "id": "4876a155-a001-4351-83c2-6fde619ef6dd",
   "metadata": {
    "tags": []
   },
   "outputs": [
    {
     "name": "stdout",
     "output_type": "stream",
     "text": [
      "130: Developable Residential Land                                                                                                233\n",
      "131: Potentially Developable Residential Land                                                                                    112\n",
      "101: Single Family Residential                                                                                                   105\n",
      "016: Mixed Use (Primarily Residential, some Forest)                                                                               62\n",
      "106: Accessory Land with Improvement                                                                                              46\n",
      "017: Mixed Use (Primarily Residential, some Agriculture)                                                                          41\n",
      "073: Mixed Use (Primarily Agriculture, some Commercial)                                                                           35\n",
      "037: Mixed Use (Primarily Commercial, some Agriculture)                                                                           28\n",
      "018: Mixed Use (Primarily Residential, some Recreation)                                                                           24\n",
      "061: Mixed Use (Primarily Forest, some Residential)                                                                               16\n",
      "103: Mobile Home (includes mobile home park land)                                                                                 12\n",
      "410: Sand and Gravel Mining/Quarry                                                                                                 8\n",
      "071: Mixed Use (Primarily Agriculture, some Residential)                                                                           7\n",
      "067: Mixed Use (Primarily Forest, some Agriculture)                                                                                7\n",
      "936: Vacant, Tax Title/Treasurer                                                                                                   5\n",
      "083: Mixed Use (Primarily Recreation, some Commercial)                                                                             5\n",
      "109: Multiple Houses on one parcel                                                                                                 5\n",
      "440: Developable Industrial Land                                                                                                   4\n",
      "958: Recreation, Active Use (Charitable Org.)                                                                                      4\n",
      "087: Mixed Use (Primarily Recreation, some Agriculture)                                                                            4\n",
      "081: Mixed Use (Primarily Recreation, some Residential)                                                                            4\n",
      "933: Vacant, Education (Municipal or County)                                                                                       3\n",
      "990: 121A Corporations                                                                                                             3\n",
      "317: Farm Buildings - barns, silo, utility shed, etc                                                                               3\n",
      "962: Other (Religious Org.)                                                                                                        3\n",
      "038: Mixed Use (Primarily Commercial, some Recreation)                                                                             3\n",
      "422: Electrical Plant                                                                                                              2\n",
      "953: Cemeteries (Charitable Org.)                                                                                                  2\n",
      "960: Church, Mosque, Synagogue, Temple, etc...                                                                                     2\n",
      "441: Potentially Developable Industrial Land                                                                                       2\n",
      "076: Mixed Use (Primarily Agriculture, some Forest)                                                                                2\n",
      "321: Facilities providing building materials, hardware and farm equip, heating, hardware, plumbing, lumber supplies and equip      2\n",
      "442: Undevelopable Industrial Land                                                                                                 2\n",
      "412: Rock Mining/Quarry                                                                                                            2\n",
      "997: Other                                                                                                                         1\n",
      "063: Mixed Use (Primarily Forest, some Commercial)                                                                                 1\n",
      "943: Other Educational (Educational Private)                                                                                       1\n",
      "391: Potentially Developable Commercial Land                                                                                       1\n",
      "031: Mixed Use (Primarily Commercial, some Residential)                                                                            1\n",
      "104: Two-Family Residential                                                                                                        1\n",
      "400: Buildings for manufacturing operations                                                                                        1\n",
      "906: (formerly Religious Organizations.  Removed June 2009.)                                                                       1\n",
      "078: Mixed Use (Primarily Agriculture, some Recreation)                                                                            1\n",
      "084: Mixed Use (Primarily Recreation, some Industrial)                                                                             1\n",
      "424: Electricity Regulating Substations                                                                                            1\n",
      "940: Elementary Level (Educational Private)                                                                                        1\n",
      "013: Mixed Use (Primarily Residential, some Commercial)                                                                            1\n",
      "937: Improved, Tax Title/Treasurer                                                                                                 1\n",
      "939: Improved, District (County)                                                                                                   1\n",
      "354: Bus Transportation Facilities and Related Properties                                                                          1\n",
      "353: Fraternal Organizations                                                                                                       1\n",
      "928: Division of Capital Asset Management (DCAM) - Bureau of State Office Buildings (non-reimbursable)                             1\n",
      "385: Fish and Game Clubs (not Ch. 61B)                                                                                             1\n",
      "971: Utility Authority - Electric, Light, Sewer, Water                                                                             1\n",
      "900: United States Government                                                                                                      1\n",
      "390: Developable Commercial Land                                                                                                   1\n",
      "946: Vacant (Educational Private)                                                                                                  1\n",
      "086: Mixed Use (Primarily Recreation, some Forest)                                                                                 1\n",
      "036: Mixed Use (Primarily Commercial, some Forest)                                                                                 1\n",
      "dtype: int64\n"
     ]
    }
   ],
   "source": [
    "with pd.option_context('display.max_rows', None):\n",
    "    print(filtered.agg('{0[USE_CODE]}: {0[USE_DESC]}'.format, axis=1).value_counts())"
   ]
  },
  {
   "cell_type": "code",
   "execution_count": null,
   "id": "8a55afca-6472-41da-9095-50a0bd309e74",
   "metadata": {},
   "outputs": [],
   "source": [
    "filtered.explore(\n",
    "    column=\"duration\",\n",
    "    # tiles=\"USGS.USImagery\",\n",
    "    tiles='https://server.arcgisonline.com/ArcGIS/rest/services/World_Imagery/MapServer/tile/{z}/{y}/{x}',\n",
    "    attr='ESRI',\n",
    "    popup=True,\n",
    "    tooltip=[\"SITE_ADDR\", \"LOT_SIZE\", \"USE_DESC\"],\n",
    "    style_kwds={\"fillOpacity\": 0.2}\n",
    ").save(\n",
    "    'index.html'\n",
    ")"
   ]
  },
  {
   "cell_type": "code",
   "execution_count": 16,
   "id": "cb894d5e-9753-4f89-a3da-57a04433694b",
   "metadata": {},
   "outputs": [],
   "source": [
    "!open index.html"
   ]
  },
  {
   "cell_type": "code",
   "execution_count": null,
   "id": "45ab1311-ceba-4f2f-a8ab-84ca01222efd",
   "metadata": {},
   "outputs": [],
   "source": []
  }
 ],
 "metadata": {
  "kernelspec": {
   "display_name": "Python 3 (ipykernel)",
   "language": "python",
   "name": "python3"
  },
  "language_info": {
   "codemirror_mode": {
    "name": "ipython",
    "version": 3
   },
   "file_extension": ".py",
   "mimetype": "text/x-python",
   "name": "python",
   "nbconvert_exporter": "python",
   "pygments_lexer": "ipython3",
   "version": "3.9.13"
  }
 },
 "nbformat": 4,
 "nbformat_minor": 5
}

{
 "cells": [
  {
   "cell_type": "code",
   "execution_count": 1,
   "metadata": {},
   "outputs": [
    {
     "name": "stderr",
     "output_type": "stream",
     "text": [
      "/usr/local/Caskroom/miniconda/base/envs/property-data/lib/python3.9/site-packages/requests/__init__.py:109: RequestsDependencyWarning: urllib3 (1.26.9) or chardet (5.0.0)/charset_normalizer (2.0.12) doesn't match a supported version!\n",
      "  warnings.warn(\n"
     ]
    }
   ],
   "source": [
    "from load_data import df\n",
    "from distance_matrix import add_directions_columns\n",
    "import pandas as pd"
   ]
  },
  {
   "cell_type": "code",
   "execution_count": 18,
   "metadata": {},
   "outputs": [],
   "source": [
    "HIDE_USE_CODES = [\n",
    "    \"101\",\n",
    "    \"132\",\n",
    "    \"130\",\n",
    "    \"104\",\n",
    "    \"111\",\n",
    "    \"105\",\n",
    "    \"112\",\n",
    "    \"109\",\n",
    "    \"900\",\n",
    "    \"931\",\n",
    "    \"934\"\n",
    "]\n",
    "HIDE_STYLE = [\n",
    "    \"GROUP HOME\",\n",
    "    \"APTMNT-CON\",\n",
    "    \"THREE FAM\",\n",
    "    \"COLONIAL\",\n",
    "    \"VICTORIAN\",\n",
    "    \"DUPLEX 2S\",\n",
    "    \"TWO FAMILY\"\n",
    "]"
   ]
  },
  {
   "cell_type": "code",
   "execution_count": 19,
   "metadata": {},
   "outputs": [],
   "source": [
    "filtered = df.assign(\n",
    "    distance=df.geom.distance(list(df[df.SITE_ADDR == \"332 MAIN ST\"].geom)[0].centroid)\n",
    ").query(\n",
    "    'CITY.str.lower() == \"greenfield\" and USE_CODE != @HIDE_USE_CODES and BLD_AREA > 5000 and distance < 700 and STYLE != @HIDE_STYLE'\n",
    ")"
   ]
  },
  {
   "cell_type": "code",
   "execution_count": 20,
   "metadata": {},
   "outputs": [],
   "source": [
    "filtered.explore(   \n",
    "    column=\"FULL_STR\",\n",
    "    # tiles=\"USGS.USImagery\",\n",
    "    tiles='https://server.arcgisonline.com/ArcGIS/rest/services/World_Imagery/MapServer/tile/{z}/{y}/{x}',\n",
    "    attr='ESRI',\n",
    "    popup=True,\n",
    "    style_kwds={\"fillOpacity\": 0.2}\n",
    ").save(\n",
    "    'wharehouse.html'\n",
    ")"
   ]
  },
  {
   "cell_type": "code",
   "execution_count": 21,
   "metadata": {},
   "outputs": [
    {
     "name": "stdout",
     "output_type": "stream",
     "text": [
      "325: Small Retail and Services stores (under 10,000 sq. ft.)                                                 27\n",
      "031: Mixed Use (Primarily Commercial, some Residential)                                                      18\n",
      "340: General Office Buildings                                                                                17\n",
      "013: Mixed Use (Primarily Residential, some Commercial)                                                      12\n",
      "316: Other Storage, Warehouse, and Distribution facilities (see also usecode 401)                             8\n",
      "960: Church, Mosque, Synagogue, Temple, etc...                                                                7\n",
      "400: Buildings for manufacturing operations                                                                   5\n",
      "957: Charitable Services                                                                                      4\n",
      "341: Bank Buildings                                                                                           4\n",
      "326: Eating and Drinking Establishments - restaurants, diners, fast food establishments, bars, nightclubs     4\n",
      "342: Medical Office Buildings                                                                                 2\n",
      "905: (formerly Charitable Organizations (private hospitals, etc...).  Removed June 2009. )                    2\n",
      "332: Auto Repair Facilities                                                                                   2\n",
      "992: Improved, County or Regional, Deeds or Administration                                                    2\n",
      "954: Function Halls, Community Centers, Fraternal Organizations (Charitable Org.)                             2\n",
      "362: Motion Picture Theaters                                                                                  1\n",
      "311: Bottled Gas and Propane Gas Tanks                                                                        1\n",
      "390: Developable Commercial Land                                                                              1\n",
      "355: Funeral Homes                                                                                            1\n",
      "970: Housing Authority                                                                                        1\n",
      "914: Dept. of Mental Health (DMH) - Dept. of Mental Retardation                                               1\n",
      "376: Gymnasiums and Athletic Clubs                                                                            1\n",
      "106: Accessory Land with Improvement                                                                          1\n",
      "322: Discount Stores, Junior Department Stores, Department Stores                                             1\n",
      "324: Supermarkets (in excess of 10,000 sq. ft.)                                                               1\n",
      "305: Private Hospitals                                                                                        1\n",
      "330: Automotive Vehicles Sales and Service                                                                    1\n",
      "331: Automotive Supplies Sales and Service                                                                    1\n",
      "430: Telephone Exchange Stations                                                                              1\n",
      "dtype: int64\n"
     ]
    }
   ],
   "source": [
    "with pd.option_context('display.max_rows', None):\n",
    "    print(filtered.agg('{0[USE_CODE]}: {0[USE_DESC]}'.format, axis=1).value_counts())"
   ]
  },
  {
   "cell_type": "code",
   "execution_count": 22,
   "metadata": {},
   "outputs": [
    {
     "name": "stdout",
     "output_type": "stream",
     "text": [
      "COMM BLOCK    37\n",
      "STORE         17\n",
      "OFFICE        12\n",
      "MIXED USE      9\n",
      "CHURCH/SYN     7\n",
      "WAREHOUSE      7\n",
      "MILL           5\n",
      "GOVT BLDG      5\n",
      "LODGE          4\n",
      "BANK           4\n",
      "FUNERAL HM     3\n",
      "               2\n",
      "REPAIR GAR     2\n",
      "RESTAURANT     2\n",
      "OFFICE-PRO     2\n",
      "INDUST-LT      1\n",
      "GYMNASIUM      1\n",
      "R/M SHOP       1\n",
      "BAR            1\n",
      "AUTO DEALR     1\n",
      "APRTMNT-GN     1\n",
      "CAMP, YRND     1\n",
      "CONDO-OFC      1\n",
      "DEPT STORE     1\n",
      "SHOP CTR       1\n",
      "INDUSTRIAL     1\n",
      "RELAY BLDG     1\n",
      "Name: STYLE, dtype: int64\n"
     ]
    }
   ],
   "source": [
    "with pd.option_context('display.max_rows', None):\n",
    "    print(filtered.STYLE.value_counts())"
   ]
  },
  {
   "cell_type": "code",
   "execution_count": 24,
   "metadata": {},
   "outputs": [
    {
     "name": "stdout",
     "output_type": "stream",
     "text": [
      "<class 'geopandas.geodataframe.GeoDataFrame'>\n",
      "Int64Index: 130 entries, 2281 to 4387\n",
      "Data columns (total 38 columns):\n",
      " #   Column      Non-Null Count  Dtype   \n",
      "---  ------      --------------  -----   \n",
      " 0   BLDG_VAL    130 non-null    int64   \n",
      " 1   LAND_VAL    130 non-null    int64   \n",
      " 2   OTHER_VAL   130 non-null    int64   \n",
      " 3   TOTAL_VAL   130 non-null    int64   \n",
      " 4   FY          130 non-null    int64   \n",
      " 5   LOT_SIZE    130 non-null    float64 \n",
      " 6   LS_DATE     130 non-null    object  \n",
      " 7   LS_PRICE    130 non-null    int64   \n",
      " 8   USE_CODE    130 non-null    object  \n",
      " 9   SITE_ADDR   130 non-null    object  \n",
      " 10  ADDR_NUM    130 non-null    object  \n",
      " 11  FULL_STR    130 non-null    object  \n",
      " 12  LOCATION    130 non-null    object  \n",
      " 13  CITY        130 non-null    object  \n",
      " 14  ZIP         130 non-null    object  \n",
      " 15  OWNER1      130 non-null    object  \n",
      " 16  OWN_ADDR    130 non-null    object  \n",
      " 17  OWN_CITY    130 non-null    object  \n",
      " 18  OWN_STATE   130 non-null    object  \n",
      " 19  OWN_ZIP     130 non-null    object  \n",
      " 20  OWN_CO      130 non-null    object  \n",
      " 21  LS_BOOK     130 non-null    object  \n",
      " 22  LS_PAGE     130 non-null    object  \n",
      " 23  REG_ID      130 non-null    object  \n",
      " 24  ZONING      130 non-null    object  \n",
      " 25  YEAR_BUILT  130 non-null    int64   \n",
      " 26  BLD_AREA    130 non-null    int64   \n",
      " 27  UNITS       130 non-null    int64   \n",
      " 28  RES_AREA    130 non-null    int64   \n",
      " 29  STYLE       130 non-null    object  \n",
      " 30  STORIES     130 non-null    object  \n",
      " 31  NUM_ROOMS   130 non-null    int64   \n",
      " 32  LOT_UNITS   130 non-null    object  \n",
      " 33  CAMA_ID     130 non-null    int64   \n",
      " 34  USE_DESC    130 non-null    object  \n",
      " 35  rowid       130 non-null    object  \n",
      " 36  geom        130 non-null    geometry\n",
      " 37  distance    130 non-null    float64 \n",
      "dtypes: float64(2), geometry(1), int64(12), object(23)\n",
      "memory usage: 43.7+ KB\n"
     ]
    }
   ],
   "source": [
    "filtered.info()"
   ]
  },
  {
   "cell_type": "code",
   "execution_count": 25,
   "metadata": {},
   "outputs": [],
   "source": [
    "filtered.to_csv('wharehouse.csv')"
   ]
  },
  {
   "cell_type": "code",
   "execution_count": null,
   "metadata": {},
   "outputs": [],
   "source": []
  }
 ],
 "metadata": {
  "kernelspec": {
   "display_name": "Python 3.9.13 ('property-data')",
   "language": "python",
   "name": "python3"
  },
  "language_info": {
   "codemirror_mode": {
    "name": "ipython",
    "version": 3
   },
   "file_extension": ".py",
   "mimetype": "text/x-python",
   "name": "python",
   "nbconvert_exporter": "python",
   "pygments_lexer": "ipython3",
   "version": "3.9.13"
  },
  "orig_nbformat": 4,
  "vscode": {
   "interpreter": {
    "hash": "2f348058640437cc0b8ca7bc0b9dc73cd8441607caf3ce42a7002ade5e3a949c"
   }
  }
 },
 "nbformat": 4,
 "nbformat_minor": 2
}

{
 "cells": [
  {
   "cell_type": "code",
   "execution_count": 1,
   "metadata": {},
   "outputs": [
    {
     "name": "stderr",
     "output_type": "stream",
     "text": [
      "/usr/local/Caskroom/miniconda/base/envs/property-data/lib/python3.9/site-packages/requests/__init__.py:109: RequestsDependencyWarning: urllib3 (1.26.9) or chardet (5.0.0)/charset_normalizer (2.0.12) doesn't match a supported version!\n",
      "  warnings.warn(\n"
     ]
    }
   ],
   "source": [
    "from load_data import df\n",
    "from distance_matrix import add_directions_columns\n",
    "import pandas as pd"
   ]
  },
  {
   "cell_type": "code",
   "execution_count": 66,
   "metadata": {},
   "outputs": [],
   "source": [
    "HIDE_USE_CODES = [\n",
    "    \"101\",\n",
    "    \"132\",\n",
    "    \"130\",\n",
    "    \"104\",\n",
    "    \"111\",\n",
    "    \"105\",\n",
    "    \"112\",\n",
    "    \"109\",\n",
    "    \"900\",\n",
    "    \"931\",\n",
    "    \"934\"\n",
    "]"
   ]
  },
  {
   "cell_type": "code",
   "execution_count": 71,
   "metadata": {},
   "outputs": [],
   "source": [
    "filtered = df.assign(\n",
    "    distance=df.geom.distance(list(df[df.SITE_ADDR == \"332 MAIN ST\"].geom)[0].centroid)\n",
    ").query(\n",
    "    'CITY.str.lower() == \"greenfield\" and YEAR_BUILT <= 1930 and USE_CODE != @HIDE_USE_CODES and BLD_AREA > 6000 and distance < 600'\n",
    ")"
   ]
  },
  {
   "cell_type": "code",
   "execution_count": 76,
   "metadata": {},
   "outputs": [],
   "source": [
    "filtered.explore(\n",
    "    column=\"USE_DESC\",\n",
    "    # tiles=\"USGS.USImagery\",\n",
    "    tiles='https://server.arcgisonline.com/ArcGIS/rest/services/World_Imagery/MapServer/tile/{z}/{y}/{x}',\n",
    "    attr='ESRI',\n",
    "    popup=True,\n",
    "    style_kwds={\"fillOpacity\": 0.2}\n",
    ").save(\n",
    "    'wharehouse.html'\n",
    ")"
   ]
  },
  {
   "cell_type": "code",
   "execution_count": 73,
   "metadata": {},
   "outputs": [
    {
     "name": "stdout",
     "output_type": "stream",
     "text": [
      "031: Mixed Use (Primarily Commercial, some Residential)                                                      18\n",
      "325: Small Retail and Services stores (under 10,000 sq. ft.)                                                 18\n",
      "013: Mixed Use (Primarily Residential, some Commercial)                                                      15\n",
      "340: General Office Buildings                                                                                14\n",
      "960: Church, Mosque, Synagogue, Temple, etc...                                                                7\n",
      "316: Other Storage, Warehouse, and Distribution facilities (see also usecode 401)                             5\n",
      "400: Buildings for manufacturing operations                                                                   4\n",
      "326: Eating and Drinking Establishments - restaurants, diners, fast food establishments, bars, nightclubs     4\n",
      "957: Charitable Services                                                                                      4\n",
      "954: Function Halls, Community Centers, Fraternal Organizations (Charitable Org.)                             2\n",
      "121: Rooming and Boarding Houses                                                                              2\n",
      "362: Motion Picture Theaters                                                                                  1\n",
      "331: Automotive Supplies Sales and Service                                                                    1\n",
      "332: Auto Repair Facilities                                                                                   1\n",
      "905: (formerly Charitable Organizations (private hospitals, etc...).  Removed June 2009. )                    1\n",
      "355: Funeral Homes                                                                                            1\n",
      "970: Housing Authority                                                                                        1\n",
      "914: Dept. of Mental Health (DMH) - Dept. of Mental Retardation                                               1\n",
      "341: Bank Buildings                                                                                           1\n",
      "305: Private Hospitals                                                                                        1\n",
      "430: Telephone Exchange Stations                                                                              1\n",
      "956: Libraries, Museums (Charitable Org.)                                                                     1\n",
      "dtype: int64\n"
     ]
    }
   ],
   "source": [
    "\n",
    "with pd.option_context('display.max_rows', None):\n",
    "    print(filtered.agg('{0[USE_CODE]}: {0[USE_DESC]}'.format, axis=1).value_counts())"
   ]
  },
  {
   "cell_type": "code",
   "execution_count": 70,
   "metadata": {},
   "outputs": [
    {
     "name": "stdout",
     "output_type": "stream",
     "text": [
      "<class 'geopandas.geodataframe.GeoDataFrame'>\n",
      "Int64Index: 116 entries, 2281 to 4038\n",
      "Data columns (total 38 columns):\n",
      " #   Column      Non-Null Count  Dtype   \n",
      "---  ------      --------------  -----   \n",
      " 0   BLDG_VAL    116 non-null    int64   \n",
      " 1   LAND_VAL    116 non-null    int64   \n",
      " 2   OTHER_VAL   116 non-null    int64   \n",
      " 3   TOTAL_VAL   116 non-null    int64   \n",
      " 4   FY          116 non-null    int64   \n",
      " 5   LOT_SIZE    116 non-null    float64 \n",
      " 6   LS_DATE     116 non-null    object  \n",
      " 7   LS_PRICE    116 non-null    int64   \n",
      " 8   USE_CODE    116 non-null    object  \n",
      " 9   SITE_ADDR   116 non-null    object  \n",
      " 10  ADDR_NUM    116 non-null    object  \n",
      " 11  FULL_STR    116 non-null    object  \n",
      " 12  LOCATION    116 non-null    object  \n",
      " 13  CITY        116 non-null    object  \n",
      " 14  ZIP         116 non-null    object  \n",
      " 15  OWNER1      116 non-null    object  \n",
      " 16  OWN_ADDR    116 non-null    object  \n",
      " 17  OWN_CITY    116 non-null    object  \n",
      " 18  OWN_STATE   116 non-null    object  \n",
      " 19  OWN_ZIP     116 non-null    object  \n",
      " 20  OWN_CO      116 non-null    object  \n",
      " 21  LS_BOOK     116 non-null    object  \n",
      " 22  LS_PAGE     116 non-null    object  \n",
      " 23  REG_ID      116 non-null    object  \n",
      " 24  ZONING      116 non-null    object  \n",
      " 25  YEAR_BUILT  116 non-null    int64   \n",
      " 26  BLD_AREA    116 non-null    int64   \n",
      " 27  UNITS       116 non-null    int64   \n",
      " 28  RES_AREA    116 non-null    int64   \n",
      " 29  STYLE       116 non-null    object  \n",
      " 30  STORIES     116 non-null    object  \n",
      " 31  NUM_ROOMS   116 non-null    int64   \n",
      " 32  LOT_UNITS   116 non-null    object  \n",
      " 33  CAMA_ID     116 non-null    int64   \n",
      " 34  USE_DESC    116 non-null    object  \n",
      " 35  rowid       116 non-null    object  \n",
      " 36  geom        116 non-null    geometry\n",
      " 37  distance    116 non-null    float64 \n",
      "dtypes: float64(2), geometry(1), int64(12), object(23)\n",
      "memory usage: 39.4+ KB\n"
     ]
    }
   ],
   "source": [
    "filtered.info()"
   ]
  },
  {
   "cell_type": "code",
   "execution_count": null,
   "metadata": {},
   "outputs": [],
   "source": []
  }
 ],
 "metadata": {
  "kernelspec": {
   "display_name": "Python 3.9.13 ('property-data')",
   "language": "python",
   "name": "python3"
  },
  "language_info": {
   "codemirror_mode": {
    "name": "ipython",
    "version": 3
   },
   "file_extension": ".py",
   "mimetype": "text/x-python",
   "name": "python",
   "nbconvert_exporter": "python",
   "pygments_lexer": "ipython3",
   "version": "3.9.13"
  },
  "orig_nbformat": 4,
  "vscode": {
   "interpreter": {
    "hash": "2f348058640437cc0b8ca7bc0b9dc73cd8441607caf3ce42a7002ade5e3a949c"
   }
  }
 },
 "nbformat": 4,
 "nbformat_minor": 2
}
